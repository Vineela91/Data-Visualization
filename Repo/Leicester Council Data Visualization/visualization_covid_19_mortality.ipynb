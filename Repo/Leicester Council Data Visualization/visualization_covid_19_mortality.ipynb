{
  "nbformat": 4,
  "nbformat_minor": 0,
  "metadata": {
    "colab": {
      "provenance": []
    },
    "kernelspec": {
      "name": "python3",
      "display_name": "Python 3"
    },
    "language_info": {
      "name": "python"
    }
  },
  "cells": [
    {
      "cell_type": "code",
      "source": [
        "import numpy as np \n",
        "import pandas as pd \n",
        "import plotly.express as px\n",
        "import plotly.graph_objects as pxg\n",
        "import matplotlib.pyplot as plt"
      ],
      "metadata": {
        "id": "0dac3VCm_Mz_"
      },
      "execution_count": 3,
      "outputs": []
    },
    {
      "cell_type": "code",
      "source": [
        "df_tweet=pd.read_excel(\"/content/covid-19-mortality-within-28-days-of-diagnosis.xlsx\")#,delimiter=';')\n",
        "df_tweet.head()"
      ],
      "metadata": {
        "colab": {
          "base_uri": "https://localhost:8080/",
          "height": 206
        },
        "id": "bz1k_Yn74720",
        "outputId": "2cbe87a6-75b6-444c-b9af-57b34dc45a5d"
      },
      "execution_count": 4,
      "outputs": [
        {
          "output_type": "execute_result",
          "data": {
            "text/plain": [
              "    areaName        date  7 day rolling death count\n",
              "0  Leicester  2023-03-29                          3\n",
              "1  Leicester  2023-03-27                          3\n",
              "2  Leicester  2023-03-26                          3\n",
              "3  Leicester  2023-03-24                          3\n",
              "4  Leicester  2023-03-23                          3"
            ],
            "text/html": [
              "\n",
              "  <div id=\"df-2954bd08-2533-4ec1-82b9-77ce7ab7e512\">\n",
              "    <div class=\"colab-df-container\">\n",
              "      <div>\n",
              "<style scoped>\n",
              "    .dataframe tbody tr th:only-of-type {\n",
              "        vertical-align: middle;\n",
              "    }\n",
              "\n",
              "    .dataframe tbody tr th {\n",
              "        vertical-align: top;\n",
              "    }\n",
              "\n",
              "    .dataframe thead th {\n",
              "        text-align: right;\n",
              "    }\n",
              "</style>\n",
              "<table border=\"1\" class=\"dataframe\">\n",
              "  <thead>\n",
              "    <tr style=\"text-align: right;\">\n",
              "      <th></th>\n",
              "      <th>areaName</th>\n",
              "      <th>date</th>\n",
              "      <th>7 day rolling death count</th>\n",
              "    </tr>\n",
              "  </thead>\n",
              "  <tbody>\n",
              "    <tr>\n",
              "      <th>0</th>\n",
              "      <td>Leicester</td>\n",
              "      <td>2023-03-29</td>\n",
              "      <td>3</td>\n",
              "    </tr>\n",
              "    <tr>\n",
              "      <th>1</th>\n",
              "      <td>Leicester</td>\n",
              "      <td>2023-03-27</td>\n",
              "      <td>3</td>\n",
              "    </tr>\n",
              "    <tr>\n",
              "      <th>2</th>\n",
              "      <td>Leicester</td>\n",
              "      <td>2023-03-26</td>\n",
              "      <td>3</td>\n",
              "    </tr>\n",
              "    <tr>\n",
              "      <th>3</th>\n",
              "      <td>Leicester</td>\n",
              "      <td>2023-03-24</td>\n",
              "      <td>3</td>\n",
              "    </tr>\n",
              "    <tr>\n",
              "      <th>4</th>\n",
              "      <td>Leicester</td>\n",
              "      <td>2023-03-23</td>\n",
              "      <td>3</td>\n",
              "    </tr>\n",
              "  </tbody>\n",
              "</table>\n",
              "</div>\n",
              "      <button class=\"colab-df-convert\" onclick=\"convertToInteractive('df-2954bd08-2533-4ec1-82b9-77ce7ab7e512')\"\n",
              "              title=\"Convert this dataframe to an interactive table.\"\n",
              "              style=\"display:none;\">\n",
              "        \n",
              "  <svg xmlns=\"http://www.w3.org/2000/svg\" height=\"24px\"viewBox=\"0 0 24 24\"\n",
              "       width=\"24px\">\n",
              "    <path d=\"M0 0h24v24H0V0z\" fill=\"none\"/>\n",
              "    <path d=\"M18.56 5.44l.94 2.06.94-2.06 2.06-.94-2.06-.94-.94-2.06-.94 2.06-2.06.94zm-11 1L8.5 8.5l.94-2.06 2.06-.94-2.06-.94L8.5 2.5l-.94 2.06-2.06.94zm10 10l.94 2.06.94-2.06 2.06-.94-2.06-.94-.94-2.06-.94 2.06-2.06.94z\"/><path d=\"M17.41 7.96l-1.37-1.37c-.4-.4-.92-.59-1.43-.59-.52 0-1.04.2-1.43.59L10.3 9.45l-7.72 7.72c-.78.78-.78 2.05 0 2.83L4 21.41c.39.39.9.59 1.41.59.51 0 1.02-.2 1.41-.59l7.78-7.78 2.81-2.81c.8-.78.8-2.07 0-2.86zM5.41 20L4 18.59l7.72-7.72 1.47 1.35L5.41 20z\"/>\n",
              "  </svg>\n",
              "      </button>\n",
              "      \n",
              "  <style>\n",
              "    .colab-df-container {\n",
              "      display:flex;\n",
              "      flex-wrap:wrap;\n",
              "      gap: 12px;\n",
              "    }\n",
              "\n",
              "    .colab-df-convert {\n",
              "      background-color: #E8F0FE;\n",
              "      border: none;\n",
              "      border-radius: 50%;\n",
              "      cursor: pointer;\n",
              "      display: none;\n",
              "      fill: #1967D2;\n",
              "      height: 32px;\n",
              "      padding: 0 0 0 0;\n",
              "      width: 32px;\n",
              "    }\n",
              "\n",
              "    .colab-df-convert:hover {\n",
              "      background-color: #E2EBFA;\n",
              "      box-shadow: 0px 1px 2px rgba(60, 64, 67, 0.3), 0px 1px 3px 1px rgba(60, 64, 67, 0.15);\n",
              "      fill: #174EA6;\n",
              "    }\n",
              "\n",
              "    [theme=dark] .colab-df-convert {\n",
              "      background-color: #3B4455;\n",
              "      fill: #D2E3FC;\n",
              "    }\n",
              "\n",
              "    [theme=dark] .colab-df-convert:hover {\n",
              "      background-color: #434B5C;\n",
              "      box-shadow: 0px 1px 3px 1px rgba(0, 0, 0, 0.15);\n",
              "      filter: drop-shadow(0px 1px 2px rgba(0, 0, 0, 0.3));\n",
              "      fill: #FFFFFF;\n",
              "    }\n",
              "  </style>\n",
              "\n",
              "      <script>\n",
              "        const buttonEl =\n",
              "          document.querySelector('#df-2954bd08-2533-4ec1-82b9-77ce7ab7e512 button.colab-df-convert');\n",
              "        buttonEl.style.display =\n",
              "          google.colab.kernel.accessAllowed ? 'block' : 'none';\n",
              "\n",
              "        async function convertToInteractive(key) {\n",
              "          const element = document.querySelector('#df-2954bd08-2533-4ec1-82b9-77ce7ab7e512');\n",
              "          const dataTable =\n",
              "            await google.colab.kernel.invokeFunction('convertToInteractive',\n",
              "                                                     [key], {});\n",
              "          if (!dataTable) return;\n",
              "\n",
              "          const docLinkHtml = 'Like what you see? Visit the ' +\n",
              "            '<a target=\"_blank\" href=https://colab.research.google.com/notebooks/data_table.ipynb>data table notebook</a>'\n",
              "            + ' to learn more about interactive tables.';\n",
              "          element.innerHTML = '';\n",
              "          dataTable['output_type'] = 'display_data';\n",
              "          await google.colab.output.renderOutput(dataTable, element);\n",
              "          const docLink = document.createElement('div');\n",
              "          docLink.innerHTML = docLinkHtml;\n",
              "          element.appendChild(docLink);\n",
              "        }\n",
              "      </script>\n",
              "    </div>\n",
              "  </div>\n",
              "  "
            ]
          },
          "metadata": {},
          "execution_count": 4
        }
      ]
    },
    {
      "cell_type": "markdown",
      "source": [
        "# Date filter"
      ],
      "metadata": {
        "id": "vY8mLtwjZ557"
      }
    },
    {
      "cell_type": "code",
      "source": [
        "df_tweet['year'] = pd.DatetimeIndex(df_tweet['date']).year\n",
        "df_tweet['Month'] = pd.DatetimeIndex(df_tweet['date']).month"
      ],
      "metadata": {
        "id": "_9R6munRZ7f-"
      },
      "execution_count": 5,
      "outputs": []
    },
    {
      "cell_type": "code",
      "source": [
        "df_tweet.sample(10)"
      ],
      "metadata": {
        "colab": {
          "base_uri": "https://localhost:8080/",
          "height": 363
        },
        "id": "YA1KnfJhaX7I",
        "outputId": "4cc5f52e-0c19-462e-8348-646874d8c94f"
      },
      "execution_count": 6,
      "outputs": [
        {
          "output_type": "execute_result",
          "data": {
            "text/plain": [
              "       areaName        date  7 day rolling death count  year  Month\n",
              "152   Leicester  2022-03-06                          2  2022      3\n",
              "729   Leicester  2021-06-24                          0  2021      6\n",
              "763   Leicester  2021-03-27                          7  2021      3\n",
              "619   Leicester  2022-06-27                          3  2022      6\n",
              "238   Leicester  2022-11-10                          4  2022     11\n",
              "1080  Leicester  2020-05-28                         11  2020      5\n",
              "587   Leicester  2022-10-02                          3  2022     10\n",
              "208   Leicester  2023-02-13                          5  2023      2\n",
              "408   Leicester  2021-04-27                          3  2021      4\n",
              "876   Leicester  2020-04-09                         38  2020      4"
            ],
            "text/html": [
              "\n",
              "  <div id=\"df-3d1cb275-022e-4daf-a8a3-92ccfdde1ef4\">\n",
              "    <div class=\"colab-df-container\">\n",
              "      <div>\n",
              "<style scoped>\n",
              "    .dataframe tbody tr th:only-of-type {\n",
              "        vertical-align: middle;\n",
              "    }\n",
              "\n",
              "    .dataframe tbody tr th {\n",
              "        vertical-align: top;\n",
              "    }\n",
              "\n",
              "    .dataframe thead th {\n",
              "        text-align: right;\n",
              "    }\n",
              "</style>\n",
              "<table border=\"1\" class=\"dataframe\">\n",
              "  <thead>\n",
              "    <tr style=\"text-align: right;\">\n",
              "      <th></th>\n",
              "      <th>areaName</th>\n",
              "      <th>date</th>\n",
              "      <th>7 day rolling death count</th>\n",
              "      <th>year</th>\n",
              "      <th>Month</th>\n",
              "    </tr>\n",
              "  </thead>\n",
              "  <tbody>\n",
              "    <tr>\n",
              "      <th>152</th>\n",
              "      <td>Leicester</td>\n",
              "      <td>2022-03-06</td>\n",
              "      <td>2</td>\n",
              "      <td>2022</td>\n",
              "      <td>3</td>\n",
              "    </tr>\n",
              "    <tr>\n",
              "      <th>729</th>\n",
              "      <td>Leicester</td>\n",
              "      <td>2021-06-24</td>\n",
              "      <td>0</td>\n",
              "      <td>2021</td>\n",
              "      <td>6</td>\n",
              "    </tr>\n",
              "    <tr>\n",
              "      <th>763</th>\n",
              "      <td>Leicester</td>\n",
              "      <td>2021-03-27</td>\n",
              "      <td>7</td>\n",
              "      <td>2021</td>\n",
              "      <td>3</td>\n",
              "    </tr>\n",
              "    <tr>\n",
              "      <th>619</th>\n",
              "      <td>Leicester</td>\n",
              "      <td>2022-06-27</td>\n",
              "      <td>3</td>\n",
              "      <td>2022</td>\n",
              "      <td>6</td>\n",
              "    </tr>\n",
              "    <tr>\n",
              "      <th>238</th>\n",
              "      <td>Leicester</td>\n",
              "      <td>2022-11-10</td>\n",
              "      <td>4</td>\n",
              "      <td>2022</td>\n",
              "      <td>11</td>\n",
              "    </tr>\n",
              "    <tr>\n",
              "      <th>1080</th>\n",
              "      <td>Leicester</td>\n",
              "      <td>2020-05-28</td>\n",
              "      <td>11</td>\n",
              "      <td>2020</td>\n",
              "      <td>5</td>\n",
              "    </tr>\n",
              "    <tr>\n",
              "      <th>587</th>\n",
              "      <td>Leicester</td>\n",
              "      <td>2022-10-02</td>\n",
              "      <td>3</td>\n",
              "      <td>2022</td>\n",
              "      <td>10</td>\n",
              "    </tr>\n",
              "    <tr>\n",
              "      <th>208</th>\n",
              "      <td>Leicester</td>\n",
              "      <td>2023-02-13</td>\n",
              "      <td>5</td>\n",
              "      <td>2023</td>\n",
              "      <td>2</td>\n",
              "    </tr>\n",
              "    <tr>\n",
              "      <th>408</th>\n",
              "      <td>Leicester</td>\n",
              "      <td>2021-04-27</td>\n",
              "      <td>3</td>\n",
              "      <td>2021</td>\n",
              "      <td>4</td>\n",
              "    </tr>\n",
              "    <tr>\n",
              "      <th>876</th>\n",
              "      <td>Leicester</td>\n",
              "      <td>2020-04-09</td>\n",
              "      <td>38</td>\n",
              "      <td>2020</td>\n",
              "      <td>4</td>\n",
              "    </tr>\n",
              "  </tbody>\n",
              "</table>\n",
              "</div>\n",
              "      <button class=\"colab-df-convert\" onclick=\"convertToInteractive('df-3d1cb275-022e-4daf-a8a3-92ccfdde1ef4')\"\n",
              "              title=\"Convert this dataframe to an interactive table.\"\n",
              "              style=\"display:none;\">\n",
              "        \n",
              "  <svg xmlns=\"http://www.w3.org/2000/svg\" height=\"24px\"viewBox=\"0 0 24 24\"\n",
              "       width=\"24px\">\n",
              "    <path d=\"M0 0h24v24H0V0z\" fill=\"none\"/>\n",
              "    <path d=\"M18.56 5.44l.94 2.06.94-2.06 2.06-.94-2.06-.94-.94-2.06-.94 2.06-2.06.94zm-11 1L8.5 8.5l.94-2.06 2.06-.94-2.06-.94L8.5 2.5l-.94 2.06-2.06.94zm10 10l.94 2.06.94-2.06 2.06-.94-2.06-.94-.94-2.06-.94 2.06-2.06.94z\"/><path d=\"M17.41 7.96l-1.37-1.37c-.4-.4-.92-.59-1.43-.59-.52 0-1.04.2-1.43.59L10.3 9.45l-7.72 7.72c-.78.78-.78 2.05 0 2.83L4 21.41c.39.39.9.59 1.41.59.51 0 1.02-.2 1.41-.59l7.78-7.78 2.81-2.81c.8-.78.8-2.07 0-2.86zM5.41 20L4 18.59l7.72-7.72 1.47 1.35L5.41 20z\"/>\n",
              "  </svg>\n",
              "      </button>\n",
              "      \n",
              "  <style>\n",
              "    .colab-df-container {\n",
              "      display:flex;\n",
              "      flex-wrap:wrap;\n",
              "      gap: 12px;\n",
              "    }\n",
              "\n",
              "    .colab-df-convert {\n",
              "      background-color: #E8F0FE;\n",
              "      border: none;\n",
              "      border-radius: 50%;\n",
              "      cursor: pointer;\n",
              "      display: none;\n",
              "      fill: #1967D2;\n",
              "      height: 32px;\n",
              "      padding: 0 0 0 0;\n",
              "      width: 32px;\n",
              "    }\n",
              "\n",
              "    .colab-df-convert:hover {\n",
              "      background-color: #E2EBFA;\n",
              "      box-shadow: 0px 1px 2px rgba(60, 64, 67, 0.3), 0px 1px 3px 1px rgba(60, 64, 67, 0.15);\n",
              "      fill: #174EA6;\n",
              "    }\n",
              "\n",
              "    [theme=dark] .colab-df-convert {\n",
              "      background-color: #3B4455;\n",
              "      fill: #D2E3FC;\n",
              "    }\n",
              "\n",
              "    [theme=dark] .colab-df-convert:hover {\n",
              "      background-color: #434B5C;\n",
              "      box-shadow: 0px 1px 3px 1px rgba(0, 0, 0, 0.15);\n",
              "      filter: drop-shadow(0px 1px 2px rgba(0, 0, 0, 0.3));\n",
              "      fill: #FFFFFF;\n",
              "    }\n",
              "  </style>\n",
              "\n",
              "      <script>\n",
              "        const buttonEl =\n",
              "          document.querySelector('#df-3d1cb275-022e-4daf-a8a3-92ccfdde1ef4 button.colab-df-convert');\n",
              "        buttonEl.style.display =\n",
              "          google.colab.kernel.accessAllowed ? 'block' : 'none';\n",
              "\n",
              "        async function convertToInteractive(key) {\n",
              "          const element = document.querySelector('#df-3d1cb275-022e-4daf-a8a3-92ccfdde1ef4');\n",
              "          const dataTable =\n",
              "            await google.colab.kernel.invokeFunction('convertToInteractive',\n",
              "                                                     [key], {});\n",
              "          if (!dataTable) return;\n",
              "\n",
              "          const docLinkHtml = 'Like what you see? Visit the ' +\n",
              "            '<a target=\"_blank\" href=https://colab.research.google.com/notebooks/data_table.ipynb>data table notebook</a>'\n",
              "            + ' to learn more about interactive tables.';\n",
              "          element.innerHTML = '';\n",
              "          dataTable['output_type'] = 'display_data';\n",
              "          await google.colab.output.renderOutput(dataTable, element);\n",
              "          const docLink = document.createElement('div');\n",
              "          docLink.innerHTML = docLinkHtml;\n",
              "          element.appendChild(docLink);\n",
              "        }\n",
              "      </script>\n",
              "    </div>\n",
              "  </div>\n",
              "  "
            ]
          },
          "metadata": {},
          "execution_count": 6
        }
      ]
    },
    {
      "cell_type": "code",
      "source": [
        "month_map = {1:'January',\n",
        "             2:'February',\n",
        "             3:'March',\n",
        "             4:'April',\n",
        "             5:'May',\n",
        "             6:'June',\n",
        "             7:'July',\n",
        "             8:'August',\n",
        "             9:'September',\n",
        "             10:'October',\n",
        "             11:'November',\n",
        "             12:'December'\n",
        "             }"
      ],
      "metadata": {
        "id": "0m4m3jmdbZyB"
      },
      "execution_count": 7,
      "outputs": []
    },
    {
      "cell_type": "code",
      "source": [
        "df_tweet['Month_Name']=df_tweet['Month'].apply(lambda v: month_map[v])"
      ],
      "metadata": {
        "id": "79rAjy2Jb71L"
      },
      "execution_count": 8,
      "outputs": []
    },
    {
      "cell_type": "code",
      "source": [
        "df_tweet.sample(6)"
      ],
      "metadata": {
        "colab": {
          "base_uri": "https://localhost:8080/",
          "height": 237
        },
        "id": "eO7caBircGI5",
        "outputId": "9d93abda-ba87-4e0e-891b-acf4d9c34cb7"
      },
      "execution_count": 9,
      "outputs": [
        {
          "output_type": "execute_result",
          "data": {
            "text/plain": [
              "      areaName        date  7 day rolling death count  year  Month Month_Name\n",
              "915  Leicester  2021-08-27                          8  2021      8     August\n",
              "8    Leicester  2023-03-17                          0  2023      3      March\n",
              "512  Leicester  2020-07-07                          6  2020      7       July\n",
              "292  Leicester  2022-05-03                          4  2022      5        May\n",
              "959  Leicester  2021-04-07                          2  2021      4      April\n",
              "321  Leicester  2022-01-28                         10  2022      1    January"
            ],
            "text/html": [
              "\n",
              "  <div id=\"df-39b9e35f-1d44-49c4-82f7-2073f7f39912\">\n",
              "    <div class=\"colab-df-container\">\n",
              "      <div>\n",
              "<style scoped>\n",
              "    .dataframe tbody tr th:only-of-type {\n",
              "        vertical-align: middle;\n",
              "    }\n",
              "\n",
              "    .dataframe tbody tr th {\n",
              "        vertical-align: top;\n",
              "    }\n",
              "\n",
              "    .dataframe thead th {\n",
              "        text-align: right;\n",
              "    }\n",
              "</style>\n",
              "<table border=\"1\" class=\"dataframe\">\n",
              "  <thead>\n",
              "    <tr style=\"text-align: right;\">\n",
              "      <th></th>\n",
              "      <th>areaName</th>\n",
              "      <th>date</th>\n",
              "      <th>7 day rolling death count</th>\n",
              "      <th>year</th>\n",
              "      <th>Month</th>\n",
              "      <th>Month_Name</th>\n",
              "    </tr>\n",
              "  </thead>\n",
              "  <tbody>\n",
              "    <tr>\n",
              "      <th>915</th>\n",
              "      <td>Leicester</td>\n",
              "      <td>2021-08-27</td>\n",
              "      <td>8</td>\n",
              "      <td>2021</td>\n",
              "      <td>8</td>\n",
              "      <td>August</td>\n",
              "    </tr>\n",
              "    <tr>\n",
              "      <th>8</th>\n",
              "      <td>Leicester</td>\n",
              "      <td>2023-03-17</td>\n",
              "      <td>0</td>\n",
              "      <td>2023</td>\n",
              "      <td>3</td>\n",
              "      <td>March</td>\n",
              "    </tr>\n",
              "    <tr>\n",
              "      <th>512</th>\n",
              "      <td>Leicester</td>\n",
              "      <td>2020-07-07</td>\n",
              "      <td>6</td>\n",
              "      <td>2020</td>\n",
              "      <td>7</td>\n",
              "      <td>July</td>\n",
              "    </tr>\n",
              "    <tr>\n",
              "      <th>292</th>\n",
              "      <td>Leicester</td>\n",
              "      <td>2022-05-03</td>\n",
              "      <td>4</td>\n",
              "      <td>2022</td>\n",
              "      <td>5</td>\n",
              "      <td>May</td>\n",
              "    </tr>\n",
              "    <tr>\n",
              "      <th>959</th>\n",
              "      <td>Leicester</td>\n",
              "      <td>2021-04-07</td>\n",
              "      <td>2</td>\n",
              "      <td>2021</td>\n",
              "      <td>4</td>\n",
              "      <td>April</td>\n",
              "    </tr>\n",
              "    <tr>\n",
              "      <th>321</th>\n",
              "      <td>Leicester</td>\n",
              "      <td>2022-01-28</td>\n",
              "      <td>10</td>\n",
              "      <td>2022</td>\n",
              "      <td>1</td>\n",
              "      <td>January</td>\n",
              "    </tr>\n",
              "  </tbody>\n",
              "</table>\n",
              "</div>\n",
              "      <button class=\"colab-df-convert\" onclick=\"convertToInteractive('df-39b9e35f-1d44-49c4-82f7-2073f7f39912')\"\n",
              "              title=\"Convert this dataframe to an interactive table.\"\n",
              "              style=\"display:none;\">\n",
              "        \n",
              "  <svg xmlns=\"http://www.w3.org/2000/svg\" height=\"24px\"viewBox=\"0 0 24 24\"\n",
              "       width=\"24px\">\n",
              "    <path d=\"M0 0h24v24H0V0z\" fill=\"none\"/>\n",
              "    <path d=\"M18.56 5.44l.94 2.06.94-2.06 2.06-.94-2.06-.94-.94-2.06-.94 2.06-2.06.94zm-11 1L8.5 8.5l.94-2.06 2.06-.94-2.06-.94L8.5 2.5l-.94 2.06-2.06.94zm10 10l.94 2.06.94-2.06 2.06-.94-2.06-.94-.94-2.06-.94 2.06-2.06.94z\"/><path d=\"M17.41 7.96l-1.37-1.37c-.4-.4-.92-.59-1.43-.59-.52 0-1.04.2-1.43.59L10.3 9.45l-7.72 7.72c-.78.78-.78 2.05 0 2.83L4 21.41c.39.39.9.59 1.41.59.51 0 1.02-.2 1.41-.59l7.78-7.78 2.81-2.81c.8-.78.8-2.07 0-2.86zM5.41 20L4 18.59l7.72-7.72 1.47 1.35L5.41 20z\"/>\n",
              "  </svg>\n",
              "      </button>\n",
              "      \n",
              "  <style>\n",
              "    .colab-df-container {\n",
              "      display:flex;\n",
              "      flex-wrap:wrap;\n",
              "      gap: 12px;\n",
              "    }\n",
              "\n",
              "    .colab-df-convert {\n",
              "      background-color: #E8F0FE;\n",
              "      border: none;\n",
              "      border-radius: 50%;\n",
              "      cursor: pointer;\n",
              "      display: none;\n",
              "      fill: #1967D2;\n",
              "      height: 32px;\n",
              "      padding: 0 0 0 0;\n",
              "      width: 32px;\n",
              "    }\n",
              "\n",
              "    .colab-df-convert:hover {\n",
              "      background-color: #E2EBFA;\n",
              "      box-shadow: 0px 1px 2px rgba(60, 64, 67, 0.3), 0px 1px 3px 1px rgba(60, 64, 67, 0.15);\n",
              "      fill: #174EA6;\n",
              "    }\n",
              "\n",
              "    [theme=dark] .colab-df-convert {\n",
              "      background-color: #3B4455;\n",
              "      fill: #D2E3FC;\n",
              "    }\n",
              "\n",
              "    [theme=dark] .colab-df-convert:hover {\n",
              "      background-color: #434B5C;\n",
              "      box-shadow: 0px 1px 3px 1px rgba(0, 0, 0, 0.15);\n",
              "      filter: drop-shadow(0px 1px 2px rgba(0, 0, 0, 0.3));\n",
              "      fill: #FFFFFF;\n",
              "    }\n",
              "  </style>\n",
              "\n",
              "      <script>\n",
              "        const buttonEl =\n",
              "          document.querySelector('#df-39b9e35f-1d44-49c4-82f7-2073f7f39912 button.colab-df-convert');\n",
              "        buttonEl.style.display =\n",
              "          google.colab.kernel.accessAllowed ? 'block' : 'none';\n",
              "\n",
              "        async function convertToInteractive(key) {\n",
              "          const element = document.querySelector('#df-39b9e35f-1d44-49c4-82f7-2073f7f39912');\n",
              "          const dataTable =\n",
              "            await google.colab.kernel.invokeFunction('convertToInteractive',\n",
              "                                                     [key], {});\n",
              "          if (!dataTable) return;\n",
              "\n",
              "          const docLinkHtml = 'Like what you see? Visit the ' +\n",
              "            '<a target=\"_blank\" href=https://colab.research.google.com/notebooks/data_table.ipynb>data table notebook</a>'\n",
              "            + ' to learn more about interactive tables.';\n",
              "          element.innerHTML = '';\n",
              "          dataTable['output_type'] = 'display_data';\n",
              "          await google.colab.output.renderOutput(dataTable, element);\n",
              "          const docLink = document.createElement('div');\n",
              "          docLink.innerHTML = docLinkHtml;\n",
              "          element.appendChild(docLink);\n",
              "        }\n",
              "      </script>\n",
              "    </div>\n",
              "  </div>\n",
              "  "
            ]
          },
          "metadata": {},
          "execution_count": 9
        }
      ]
    },
    {
      "cell_type": "code",
      "source": [
        "df_tweet['year'].value_counts()"
      ],
      "metadata": {
        "colab": {
          "base_uri": "https://localhost:8080/"
        },
        "id": "bHcWoUXcwt47",
        "outputId": "9d37a29c-e124-40e8-c902-e34f9d81145c"
      },
      "execution_count": 10,
      "outputs": [
        {
          "output_type": "execute_result",
          "data": {
            "text/plain": [
              "2022    365\n",
              "2021    365\n",
              "2020    280\n",
              "2023     91\n",
              "Name: year, dtype: int64"
            ]
          },
          "metadata": {},
          "execution_count": 10
        }
      ]
    },
    {
      "cell_type": "code",
      "source": [
        "type(df_tweet['year'])"
      ],
      "metadata": {
        "colab": {
          "base_uri": "https://localhost:8080/"
        },
        "id": "gMZY-m9AdF0D",
        "outputId": "a55b0ec9-afcd-44f5-ffff-154f9961cf46"
      },
      "execution_count": 11,
      "outputs": [
        {
          "output_type": "execute_result",
          "data": {
            "text/plain": [
              "pandas.core.series.Series"
            ]
          },
          "metadata": {},
          "execution_count": 11
        }
      ]
    },
    {
      "cell_type": "markdown",
      "source": [
        "## choose month and year"
      ],
      "metadata": {
        "id": "eFKKByE7A4Zc"
      }
    },
    {
      "cell_type": "code",
      "source": [
        "monthss=['January', 'February', 'March', 'April', 'May', 'June', 'July', 'August', 'September', 'October', 'November', 'December']"
      ],
      "metadata": {
        "id": "3Fa0Dtx9yBtX"
      },
      "execution_count": 12,
      "outputs": []
    },
    {
      "cell_type": "code",
      "source": [
        "starting_month_number=1\n",
        "ending_month_number=11"
      ],
      "metadata": {
        "id": "Hzi9CSPWzOaL"
      },
      "execution_count": 21,
      "outputs": []
    },
    {
      "cell_type": "code",
      "source": [
        "Months_wanted=[monthss[i] for i in range(starting_month_number-1,ending_month_number)]# months_range.apply(lambda v: month_map[v])#['January','July']\n",
        "years_wanted=[2021,2022]#[2010,2018,2019]"
      ],
      "metadata": {
        "id": "N70FLRYQc3Js"
      },
      "execution_count": 24,
      "outputs": []
    },
    {
      "cell_type": "code",
      "source": [
        "Months_wanted"
      ],
      "metadata": {
        "colab": {
          "base_uri": "https://localhost:8080/"
        },
        "id": "tTpJ3TkKFCcv",
        "outputId": "107fd890-5c08-4fc5-dc90-6d2e1a6b601d"
      },
      "execution_count": 25,
      "outputs": [
        {
          "output_type": "execute_result",
          "data": {
            "text/plain": [
              "['January',\n",
              " 'February',\n",
              " 'March',\n",
              " 'April',\n",
              " 'May',\n",
              " 'June',\n",
              " 'July',\n",
              " 'August',\n",
              " 'September',\n",
              " 'October',\n",
              " 'November']"
            ]
          },
          "metadata": {},
          "execution_count": 25
        }
      ]
    },
    {
      "cell_type": "code",
      "source": [
        "if len(Months_wanted)==0:\n",
        "  X1=df_tweet.copy()\n",
        "else:\n",
        "  X1=df_tweet.loc[df_tweet['Month_Name'].isin(Months_wanted)]"
      ],
      "metadata": {
        "id": "v586RgGkvjeD"
      },
      "execution_count": 26,
      "outputs": []
    },
    {
      "cell_type": "code",
      "source": [
        "if len(years_wanted)==0:\n",
        "  X2=X1.copy()\n",
        "else:\n",
        "  X2=X1.loc[X1['year'].isin(years_wanted)]"
      ],
      "metadata": {
        "id": "42SE2bsdvtB8"
      },
      "execution_count": 27,
      "outputs": []
    },
    {
      "cell_type": "code",
      "source": [
        "# X1=df_tweet.loc[df_tweet['Month_Name'].isin(Months_wanted)]\n",
        "# X2=X1.loc[X1['year'].isin(years_wanted)]"
      ],
      "metadata": {
        "id": "YzbmQSjDd1t0"
      },
      "execution_count": 28,
      "outputs": []
    },
    {
      "cell_type": "code",
      "source": [
        "X2.head()"
      ],
      "metadata": {
        "colab": {
          "base_uri": "https://localhost:8080/",
          "height": 206
        },
        "id": "azemMhEjvdOS",
        "outputId": "2e337b34-0868-4356-f820-38deb4f95710"
      },
      "execution_count": 29,
      "outputs": [
        {
          "output_type": "execute_result",
          "data": {
            "text/plain": [
              "     areaName        date  7 day rolling death count  year  Month Month_Name\n",
              "49  Leicester  2022-11-29                          2  2022     11   November\n",
              "50  Leicester  2022-11-28                          2  2022     11   November\n",
              "51  Leicester  2022-11-27                          2  2022     11   November\n",
              "52  Leicester  2022-11-22                          1  2022     11   November\n",
              "53  Leicester  2022-11-21                          1  2022     11   November"
            ],
            "text/html": [
              "\n",
              "  <div id=\"df-1511c097-bec0-419f-900c-d8d4328a1613\">\n",
              "    <div class=\"colab-df-container\">\n",
              "      <div>\n",
              "<style scoped>\n",
              "    .dataframe tbody tr th:only-of-type {\n",
              "        vertical-align: middle;\n",
              "    }\n",
              "\n",
              "    .dataframe tbody tr th {\n",
              "        vertical-align: top;\n",
              "    }\n",
              "\n",
              "    .dataframe thead th {\n",
              "        text-align: right;\n",
              "    }\n",
              "</style>\n",
              "<table border=\"1\" class=\"dataframe\">\n",
              "  <thead>\n",
              "    <tr style=\"text-align: right;\">\n",
              "      <th></th>\n",
              "      <th>areaName</th>\n",
              "      <th>date</th>\n",
              "      <th>7 day rolling death count</th>\n",
              "      <th>year</th>\n",
              "      <th>Month</th>\n",
              "      <th>Month_Name</th>\n",
              "    </tr>\n",
              "  </thead>\n",
              "  <tbody>\n",
              "    <tr>\n",
              "      <th>49</th>\n",
              "      <td>Leicester</td>\n",
              "      <td>2022-11-29</td>\n",
              "      <td>2</td>\n",
              "      <td>2022</td>\n",
              "      <td>11</td>\n",
              "      <td>November</td>\n",
              "    </tr>\n",
              "    <tr>\n",
              "      <th>50</th>\n",
              "      <td>Leicester</td>\n",
              "      <td>2022-11-28</td>\n",
              "      <td>2</td>\n",
              "      <td>2022</td>\n",
              "      <td>11</td>\n",
              "      <td>November</td>\n",
              "    </tr>\n",
              "    <tr>\n",
              "      <th>51</th>\n",
              "      <td>Leicester</td>\n",
              "      <td>2022-11-27</td>\n",
              "      <td>2</td>\n",
              "      <td>2022</td>\n",
              "      <td>11</td>\n",
              "      <td>November</td>\n",
              "    </tr>\n",
              "    <tr>\n",
              "      <th>52</th>\n",
              "      <td>Leicester</td>\n",
              "      <td>2022-11-22</td>\n",
              "      <td>1</td>\n",
              "      <td>2022</td>\n",
              "      <td>11</td>\n",
              "      <td>November</td>\n",
              "    </tr>\n",
              "    <tr>\n",
              "      <th>53</th>\n",
              "      <td>Leicester</td>\n",
              "      <td>2022-11-21</td>\n",
              "      <td>1</td>\n",
              "      <td>2022</td>\n",
              "      <td>11</td>\n",
              "      <td>November</td>\n",
              "    </tr>\n",
              "  </tbody>\n",
              "</table>\n",
              "</div>\n",
              "      <button class=\"colab-df-convert\" onclick=\"convertToInteractive('df-1511c097-bec0-419f-900c-d8d4328a1613')\"\n",
              "              title=\"Convert this dataframe to an interactive table.\"\n",
              "              style=\"display:none;\">\n",
              "        \n",
              "  <svg xmlns=\"http://www.w3.org/2000/svg\" height=\"24px\"viewBox=\"0 0 24 24\"\n",
              "       width=\"24px\">\n",
              "    <path d=\"M0 0h24v24H0V0z\" fill=\"none\"/>\n",
              "    <path d=\"M18.56 5.44l.94 2.06.94-2.06 2.06-.94-2.06-.94-.94-2.06-.94 2.06-2.06.94zm-11 1L8.5 8.5l.94-2.06 2.06-.94-2.06-.94L8.5 2.5l-.94 2.06-2.06.94zm10 10l.94 2.06.94-2.06 2.06-.94-2.06-.94-.94-2.06-.94 2.06-2.06.94z\"/><path d=\"M17.41 7.96l-1.37-1.37c-.4-.4-.92-.59-1.43-.59-.52 0-1.04.2-1.43.59L10.3 9.45l-7.72 7.72c-.78.78-.78 2.05 0 2.83L4 21.41c.39.39.9.59 1.41.59.51 0 1.02-.2 1.41-.59l7.78-7.78 2.81-2.81c.8-.78.8-2.07 0-2.86zM5.41 20L4 18.59l7.72-7.72 1.47 1.35L5.41 20z\"/>\n",
              "  </svg>\n",
              "      </button>\n",
              "      \n",
              "  <style>\n",
              "    .colab-df-container {\n",
              "      display:flex;\n",
              "      flex-wrap:wrap;\n",
              "      gap: 12px;\n",
              "    }\n",
              "\n",
              "    .colab-df-convert {\n",
              "      background-color: #E8F0FE;\n",
              "      border: none;\n",
              "      border-radius: 50%;\n",
              "      cursor: pointer;\n",
              "      display: none;\n",
              "      fill: #1967D2;\n",
              "      height: 32px;\n",
              "      padding: 0 0 0 0;\n",
              "      width: 32px;\n",
              "    }\n",
              "\n",
              "    .colab-df-convert:hover {\n",
              "      background-color: #E2EBFA;\n",
              "      box-shadow: 0px 1px 2px rgba(60, 64, 67, 0.3), 0px 1px 3px 1px rgba(60, 64, 67, 0.15);\n",
              "      fill: #174EA6;\n",
              "    }\n",
              "\n",
              "    [theme=dark] .colab-df-convert {\n",
              "      background-color: #3B4455;\n",
              "      fill: #D2E3FC;\n",
              "    }\n",
              "\n",
              "    [theme=dark] .colab-df-convert:hover {\n",
              "      background-color: #434B5C;\n",
              "      box-shadow: 0px 1px 3px 1px rgba(0, 0, 0, 0.15);\n",
              "      filter: drop-shadow(0px 1px 2px rgba(0, 0, 0, 0.3));\n",
              "      fill: #FFFFFF;\n",
              "    }\n",
              "  </style>\n",
              "\n",
              "      <script>\n",
              "        const buttonEl =\n",
              "          document.querySelector('#df-1511c097-bec0-419f-900c-d8d4328a1613 button.colab-df-convert');\n",
              "        buttonEl.style.display =\n",
              "          google.colab.kernel.accessAllowed ? 'block' : 'none';\n",
              "\n",
              "        async function convertToInteractive(key) {\n",
              "          const element = document.querySelector('#df-1511c097-bec0-419f-900c-d8d4328a1613');\n",
              "          const dataTable =\n",
              "            await google.colab.kernel.invokeFunction('convertToInteractive',\n",
              "                                                     [key], {});\n",
              "          if (!dataTable) return;\n",
              "\n",
              "          const docLinkHtml = 'Like what you see? Visit the ' +\n",
              "            '<a target=\"_blank\" href=https://colab.research.google.com/notebooks/data_table.ipynb>data table notebook</a>'\n",
              "            + ' to learn more about interactive tables.';\n",
              "          element.innerHTML = '';\n",
              "          dataTable['output_type'] = 'display_data';\n",
              "          await google.colab.output.renderOutput(dataTable, element);\n",
              "          const docLink = document.createElement('div');\n",
              "          docLink.innerHTML = docLinkHtml;\n",
              "          element.appendChild(docLink);\n",
              "        }\n",
              "      </script>\n",
              "    </div>\n",
              "  </div>\n",
              "  "
            ]
          },
          "metadata": {},
          "execution_count": 29
        }
      ]
    },
    {
      "cell_type": "code",
      "source": [
        "df_1=X2.copy()"
      ],
      "metadata": {
        "id": "iuWgvkgjwLY-"
      },
      "execution_count": 30,
      "outputs": []
    },
    {
      "cell_type": "code",
      "source": [
        "df_1.info()"
      ],
      "metadata": {
        "colab": {
          "base_uri": "https://localhost:8080/"
        },
        "id": "gPbGX9ZT_Qt1",
        "outputId": "cf5cd9d5-32f6-4747-c57c-86ea50d663d4"
      },
      "execution_count": 31,
      "outputs": [
        {
          "output_type": "stream",
          "name": "stdout",
          "text": [
            "<class 'pandas.core.frame.DataFrame'>\n",
            "Int64Index: 668 entries, 49 to 991\n",
            "Data columns (total 6 columns):\n",
            " #   Column                     Non-Null Count  Dtype \n",
            "---  ------                     --------------  ----- \n",
            " 0   areaName                   668 non-null    object\n",
            " 1   date                       668 non-null    object\n",
            " 2   7 day rolling death count  668 non-null    int64 \n",
            " 3   year                       668 non-null    int64 \n",
            " 4   Month                      668 non-null    int64 \n",
            " 5   Month_Name                 668 non-null    object\n",
            "dtypes: int64(3), object(3)\n",
            "memory usage: 36.5+ KB\n"
          ]
        }
      ]
    },
    {
      "cell_type": "code",
      "source": [
        "# plt.figure(figsize=(20,5))\n",
        "plt.plot(df_1['date'],df_1['7 day rolling death count'])"
      ],
      "metadata": {
        "colab": {
          "base_uri": "https://localhost:8080/",
          "height": 447
        },
        "id": "x5ARmAW6q6tX",
        "outputId": "a1851124-fff9-4038-a0eb-39e4fee9424c"
      },
      "execution_count": 32,
      "outputs": [
        {
          "output_type": "execute_result",
          "data": {
            "text/plain": [
              "[<matplotlib.lines.Line2D at 0x7fdebea478e0>]"
            ]
          },
          "metadata": {},
          "execution_count": 32
        },
        {
          "output_type": "display_data",
          "data": {
            "text/plain": [
              "<Figure size 640x480 with 1 Axes>"
            ],
            "image/png": "[encoded data removed]"
          },
          "metadata": {}
        }
      ]
    },
    {
      "cell_type": "code",
      "source": [
        "# df_1 = px.df_1.tips()\n",
        "y=df_1['7 day rolling death count']#Claimant Count'],#Claimant Rate (% of population)\n",
        "x=df_1['date']#DATE'],\n",
        " \n",
        "plot = pxg.Figure(data=[pxg.Scatter(\n",
        "    x=x,\n",
        "    y=y,\n",
        "    mode='markers',)\n",
        "])\n",
        " \n",
        "plot.update_layout(\n",
        "    xaxis=dict(\n",
        "        rangeselector=dict(\n",
        "            buttons=list([\n",
        "                dict(count=1,\n",
        "                    step=\"day\",\n",
        "                    stepmode=\"backward\"),\n",
        "            ])\n",
        "        ),\n",
        "        rangeslider=dict(\n",
        "            visible=True\n",
        "        ),\n",
        "    )\n",
        ")\n",
        " \n",
        "plot.show()"
      ],
      "metadata": {
        "colab": {
          "base_uri": "https://localhost:8080/",
          "height": 542
        },
        "id": "XuKjM9cVriWs",
        "outputId": "58ec1154-a5ed-49f7-aace-ec25e7ff8985"
      },
      "execution_count": 33,
      "outputs": [
        {
          "output_type": "display_data",
          "data": {
            "text/html": [
              "<html>\n",
              "<head><meta charset=\"utf-8\" /></head>\n",
              "<body>\n",
              "    <div>            <script src=\"https://cdnjs.cloudflare.com/ajax/libs/mathjax/2.7.5/MathJax.js?config=TeX-AMS-MML_SVG\"></script><script type=\"text/javascript\">if (window.MathJax && window.MathJax.Hub && window.MathJax.Hub.Config) {window.MathJax.Hub.Config({SVG: {font: \"STIX-Web\"}});}</script>                <script type=\"text/javascript\">window.PlotlyConfig = {MathJaxConfig: 'local'};</script>\n",
              "        <script src=\"https://cdn.plot.ly/plotly-2.18.2.min.js\"></script>                <div id=\"920860ec-dad2-4c41-9920-34c04e51ae6b\" class=\"plotly-graph-div\" style=\"height:525px; width:100%;\"></div>            <script type=\"text/javascript\">                                    window.PLOTLYENV=window.PLOTLYENV || {};                                    if (document.getElementById(\"920860ec-dad2-4c41-9920-34c04e51ae6b\")) {                    Plotly.newPlot(                        \"920860ec-dad2-4c41-9920-34c04e51ae6b\",                        [{\"mode\":\"markers\",\"x\":[\"2022-11-29\",\"2022-11-28\",\"2022-11-27\",\"2022-11-22\",\"2022-11-21\",\"2022-11-18\",\"2022-11-14\",\"2022-11-12\",\"2022-11-11\",\"2022-11-08\",\"2022-11-07\",\"2022-11-06\",\"2022-11-05\",\"2022-11-04\",\"2022-10-31\",\"2022-10-29\",\"2022-10-20\",\"2022-10-19\",\"2022-10-18\",\"2022-10-13\",\"2022-10-01\",\"2022-09-29\",\"2022-09-26\",\"2022-09-25\",\"2022-09-24\",\"2022-09-20\",\"2022-09-18\",\"2022-09-17\",\"2022-09-15\",\"2022-09-14\",\"2022-09-12\",\"2022-09-11\",\"2022-09-07\",\"2022-09-06\",\"2022-09-03\",\"2022-09-01\",\"2022-08-30\",\"2022-08-29\",\"2022-08-27\",\"2022-08-23\",\"2022-08-22\",\"2022-08-21\",\"2022-08-19\",\"2022-08-15\",\"2022-08-14\",\"2022-08-13\",\"2022-08-10\",\"2022-08-03\",\"2022-07-30\",\"2022-07-28\",\"2022-07-27\",\"2022-07-26\",\"2022-07-17\",\"2022-07-14\",\"2022-07-12\",\"2022-07-10\",\"2022-07-04\",\"2022-07-01\",\"2022-06-28\",\"2022-06-26\",\"2022-06-22\",\"2022-06-21\",\"2022-06-17\",\"2022-06-16\",\"2022-06-15\",\"2022-06-13\",\"2022-06-12\",\"2022-06-08\",\"2022-06-05\",\"2022-05-31\",\"2022-05-30\",\"2022-05-27\",\"2022-05-26\",\"2022-05-24\",\"2022-05-23\",\"2022-05-21\",\"2022-05-19\",\"2022-05-18\",\"2022-05-17\",\"2022-05-16\",\"2022-05-13\",\"2022-05-08\",\"2022-05-07\",\"2022-05-06\",\"2022-04-26\",\"2022-04-24\",\"2022-04-21\",\"2022-04-19\",\"2022-04-17\",\"2022-04-11\",\"2022-04-10\",\"2022-04-04\",\"2022-04-03\",\"2022-03-30\",\"2022-03-28\",\"2022-03-27\",\"2022-03-21\",\"2022-03-19\",\"2022-03-15\",\"2022-03-11\",\"2022-03-09\",\"2022-03-08\",\"2022-03-07\",\"2022-03-06\",\"2022-03-05\",\"2022-03-03\",\"2022-03-02\",\"2022-02-25\",\"2022-02-19\",\"2022-02-18\",\"2022-02-16\",\"2022-02-14\",\"2022-02-13\",\"2022-02-12\",\"2022-02-09\",\"2022-02-08\",\"2022-02-06\",\"2022-02-03\",\"2022-02-01\",\"2022-01-31\",\"2022-01-29\",\"2022-01-26\",\"2022-01-23\",\"2022-01-22\",\"2022-01-20\",\"2022-01-16\",\"2022-01-14\",\"2022-01-12\",\"2022-01-11\",\"2022-01-09\",\"2022-01-06\",\"2022-01-05\",\"2022-01-01\",\"2021-11-26\",\"2021-11-22\",\"2021-11-19\",\"2021-11-18\",\"2022-11-20\",\"2022-11-19\",\"2022-11-16\",\"2022-11-15\",\"2022-11-13\",\"2022-11-10\",\"2022-11-09\",\"2022-11-03\",\"2022-11-02\",\"2022-11-01\",\"2022-10-26\",\"2022-10-24\",\"2022-10-16\",\"2022-10-15\",\"2022-10-14\",\"2022-10-12\",\"2022-10-11\",\"2022-10-05\",\"2022-09-30\",\"2022-09-28\",\"2022-09-23\",\"2022-09-16\",\"2022-09-13\",\"2022-09-10\",\"2022-09-09\",\"2022-09-05\",\"2022-09-04\",\"2022-09-02\",\"2022-08-28\",\"2022-08-16\",\"2022-08-12\",\"2022-08-09\",\"2022-08-08\",\"2022-08-07\",\"2022-08-02\",\"2022-08-01\",\"2022-07-31\",\"2022-07-29\",\"2022-07-25\",\"2022-07-24\",\"2022-07-19\",\"2022-07-16\",\"2022-07-13\",\"2022-07-05\",\"2022-06-23\",\"2022-06-20\",\"2022-06-18\",\"2022-06-09\",\"2022-06-07\",\"2022-06-04\",\"2022-06-02\",\"2022-05-28\",\"2022-05-25\",\"2022-05-22\",\"2022-05-15\",\"2022-05-14\",\"2022-05-11\",\"2022-05-10\",\"2022-05-04\",\"2022-05-03\",\"2022-05-02\",\"2022-04-30\",\"2022-04-29\",\"2022-04-28\",\"2022-04-27\",\"2022-04-25\",\"2022-04-23\",\"2022-04-22\",\"2022-04-15\",\"2022-04-14\",\"2022-04-09\",\"2022-04-08\",\"2022-04-05\",\"2022-04-01\",\"2022-03-31\",\"2022-03-25\",\"2022-03-22\",\"2022-03-18\",\"2022-03-14\",\"2022-03-13\",\"2022-03-10\",\"2022-03-04\",\"2022-03-01\",\"2022-02-27\",\"2022-02-20\",\"2022-02-15\",\"2022-02-05\",\"2022-02-04\",\"2022-01-28\",\"2022-01-27\",\"2022-01-25\",\"2022-01-24\",\"2022-01-21\",\"2022-01-17\",\"2022-01-15\",\"2022-01-10\",\"2022-01-07\",\"2022-01-04\",\"2022-01-03\",\"2021-11-30\",\"2021-11-28\",\"2021-11-27\",\"2021-11-25\",\"2021-11-21\",\"2021-11-20\",\"2021-11-05\",\"2021-10-30\",\"2021-10-21\",\"2021-10-14\",\"2021-10-08\",\"2021-10-07\",\"2021-10-04\",\"2021-10-02\",\"2021-09-26\",\"2021-09-22\",\"2021-09-21\",\"2021-09-18\",\"2021-09-14\",\"2021-09-12\",\"2021-09-07\",\"2021-09-05\",\"2021-09-02\",\"2021-08-28\",\"2021-08-26\",\"2021-08-25\",\"2021-08-21\",\"2021-08-20\",\"2021-08-13\",\"2021-08-12\",\"2021-08-11\",\"2021-08-04\",\"2021-08-01\",\"2021-07-28\",\"2021-07-26\",\"2021-07-24\",\"2021-07-22\",\"2021-07-20\",\"2021-07-19\",\"2021-07-18\",\"2021-07-17\",\"2021-07-15\",\"2021-07-11\",\"2021-07-05\",\"2021-07-02\",\"2021-06-30\",\"2021-06-27\",\"2021-06-26\",\"2021-06-22\",\"2021-06-21\",\"2021-06-16\",\"2021-06-14\",\"2021-06-08\",\"2021-06-05\",\"2021-06-02\",\"2021-05-27\",\"2021-05-26\",\"2021-05-19\",\"2021-05-18\",\"2021-05-15\",\"2021-05-13\",\"2021-05-05\",\"2021-05-04\",\"2021-04-30\",\"2021-04-28\",\"2021-04-27\",\"2021-04-26\",\"2021-04-23\",\"2021-04-21\",\"2021-04-17\",\"2021-04-16\",\"2021-04-13\",\"2021-04-12\",\"2021-04-11\",\"2021-04-05\",\"2021-03-30\",\"2021-03-28\",\"2021-03-26\",\"2021-03-24\",\"2021-03-23\",\"2021-03-18\",\"2021-03-17\",\"2021-03-15\",\"2021-03-12\",\"2021-03-09\",\"2021-03-07\",\"2021-03-05\",\"2021-03-04\",\"2021-02-26\",\"2021-02-24\",\"2021-02-20\",\"2021-02-17\",\"2021-02-16\",\"2021-02-07\",\"2021-02-01\",\"2021-01-31\",\"2021-01-27\",\"2021-01-26\",\"2021-01-24\",\"2021-01-23\",\"2021-01-22\",\"2021-01-20\",\"2021-01-15\",\"2021-01-11\",\"2021-01-10\",\"2021-01-07\",\"2021-01-05\",\"2021-01-04\",\"2021-01-01\",\"2022-11-30\",\"2022-11-26\",\"2022-11-25\",\"2022-11-24\",\"2022-11-23\",\"2022-11-17\",\"2022-10-30\",\"2022-10-28\",\"2022-10-27\",\"2022-10-25\",\"2022-10-23\",\"2022-10-22\",\"2022-10-21\",\"2022-10-17\",\"2022-10-10\",\"2022-10-09\",\"2022-10-08\",\"2022-10-07\",\"2022-10-06\",\"2022-10-04\",\"2022-10-03\",\"2022-10-02\",\"2022-09-27\",\"2022-09-22\",\"2022-09-21\",\"2022-09-19\",\"2022-09-08\",\"2022-08-31\",\"2022-08-26\",\"2022-08-25\",\"2022-08-24\",\"2022-08-20\",\"2022-08-18\",\"2022-08-17\",\"2022-08-11\",\"2022-08-06\",\"2022-08-05\",\"2022-08-04\",\"2022-07-23\",\"2022-07-22\",\"2022-07-21\",\"2022-07-20\",\"2022-07-18\",\"2022-07-15\",\"2022-07-11\",\"2022-07-09\",\"2022-07-08\",\"2022-07-07\",\"2022-07-06\",\"2022-07-03\",\"2022-07-02\",\"2022-06-30\",\"2022-06-29\",\"2022-06-27\",\"2022-06-25\",\"2022-06-24\",\"2022-06-19\",\"2022-06-14\",\"2022-06-11\",\"2022-06-10\",\"2022-06-06\",\"2022-06-03\",\"2022-06-01\",\"2022-05-29\",\"2022-05-20\",\"2022-05-12\",\"2022-05-09\",\"2022-05-05\",\"2022-05-01\",\"2022-04-20\",\"2022-04-18\",\"2022-04-16\",\"2022-04-13\",\"2022-04-12\",\"2022-04-07\",\"2022-04-06\",\"2022-04-02\",\"2022-03-29\",\"2022-03-26\",\"2022-03-24\",\"2022-03-23\",\"2022-03-20\",\"2022-03-17\",\"2022-03-16\",\"2022-03-12\",\"2022-02-28\",\"2022-02-26\",\"2022-02-24\",\"2022-02-23\",\"2022-02-22\",\"2022-02-21\",\"2022-02-17\",\"2022-02-11\",\"2022-02-10\",\"2022-02-07\",\"2022-02-02\",\"2022-01-30\",\"2022-01-19\",\"2022-01-18\",\"2022-01-13\",\"2022-01-08\",\"2022-01-02\",\"2021-11-29\",\"2021-11-24\",\"2021-11-23\",\"2021-11-17\",\"2021-11-16\",\"2021-11-15\",\"2021-11-14\",\"2021-11-10\",\"2021-11-08\",\"2021-11-07\",\"2021-11-04\",\"2021-10-29\",\"2021-10-28\",\"2021-10-27\",\"2021-10-26\",\"2021-10-24\",\"2021-10-20\",\"2021-10-18\",\"2021-10-17\",\"2021-10-16\",\"2021-10-11\",\"2021-10-06\",\"2021-09-30\",\"2021-09-27\",\"2021-09-25\",\"2021-09-24\",\"2021-09-23\",\"2021-09-20\",\"2021-09-16\",\"2021-09-15\",\"2021-09-11\",\"2021-09-09\",\"2021-09-06\",\"2021-08-31\",\"2021-08-29\",\"2021-08-24\",\"2021-08-18\",\"2021-08-17\",\"2021-08-15\",\"2021-07-31\",\"2021-07-29\",\"2021-07-21\",\"2021-07-16\",\"2021-07-14\",\"2021-07-12\",\"2021-07-10\",\"2021-07-09\",\"2021-07-07\",\"2021-07-06\",\"2021-07-03\",\"2021-06-29\",\"2021-06-28\",\"2021-06-24\",\"2021-06-23\",\"2021-06-19\",\"2021-06-18\",\"2021-06-13\",\"2021-06-12\",\"2021-06-10\",\"2021-06-09\",\"2021-06-07\",\"2021-06-06\",\"2021-06-03\",\"2021-05-30\",\"2021-05-29\",\"2021-05-28\",\"2021-05-25\",\"2021-05-24\",\"2021-05-23\",\"2021-05-21\",\"2021-05-16\",\"2021-05-12\",\"2021-05-11\",\"2021-05-08\",\"2021-05-06\",\"2021-05-02\",\"2021-04-25\",\"2021-04-24\",\"2021-04-20\",\"2021-04-18\",\"2021-04-14\",\"2021-04-10\",\"2021-04-08\",\"2021-04-01\",\"2021-03-31\",\"2021-03-29\",\"2021-03-27\",\"2021-03-22\",\"2021-03-20\",\"2021-03-19\",\"2021-03-16\",\"2021-03-11\",\"2021-03-10\",\"2021-03-08\",\"2021-03-03\",\"2021-02-28\",\"2021-02-27\",\"2021-02-23\",\"2021-02-13\",\"2021-02-12\",\"2021-02-11\",\"2021-02-08\",\"2021-02-05\",\"2021-01-29\",\"2021-01-21\",\"2021-01-18\",\"2021-01-17\",\"2021-01-16\",\"2021-01-14\",\"2021-01-12\",\"2021-01-03\",\"2021-01-02\",\"2021-11-13\",\"2021-11-12\",\"2021-11-11\",\"2021-11-09\",\"2021-11-06\",\"2021-11-03\",\"2021-11-02\",\"2021-11-01\",\"2021-10-31\",\"2021-10-25\",\"2021-10-23\",\"2021-10-22\",\"2021-10-19\",\"2021-10-15\",\"2021-10-13\",\"2021-10-12\",\"2021-10-10\",\"2021-10-09\",\"2021-10-05\",\"2021-10-03\",\"2021-10-01\",\"2021-09-29\",\"2021-09-28\",\"2021-09-19\",\"2021-09-17\",\"2021-09-13\",\"2021-09-10\",\"2021-09-08\",\"2021-09-04\",\"2021-09-03\",\"2021-09-01\",\"2021-08-30\",\"2021-08-27\",\"2021-08-23\",\"2021-08-22\",\"2021-08-19\",\"2021-08-16\",\"2021-08-14\",\"2021-08-10\",\"2021-08-09\",\"2021-08-08\",\"2021-08-07\",\"2021-08-06\",\"2021-08-05\",\"2021-08-03\",\"2021-08-02\",\"2021-07-30\",\"2021-07-27\",\"2021-07-25\",\"2021-07-23\",\"2021-07-13\",\"2021-07-08\",\"2021-07-04\",\"2021-07-01\",\"2021-06-25\",\"2021-06-20\",\"2021-06-17\",\"2021-06-15\",\"2021-06-11\",\"2021-06-04\",\"2021-06-01\",\"2021-05-31\",\"2021-05-22\",\"2021-05-20\",\"2021-05-17\",\"2021-05-14\",\"2021-05-10\",\"2021-05-09\",\"2021-05-07\",\"2021-05-03\",\"2021-05-01\",\"2021-04-29\",\"2021-04-22\",\"2021-04-19\",\"2021-04-15\",\"2021-04-09\",\"2021-04-07\",\"2021-04-06\",\"2021-04-04\",\"2021-04-03\",\"2021-04-02\",\"2021-03-25\",\"2021-03-21\",\"2021-03-14\",\"2021-03-13\",\"2021-03-06\",\"2021-03-02\",\"2021-03-01\",\"2021-02-25\",\"2021-02-22\",\"2021-02-21\",\"2021-02-19\",\"2021-02-18\",\"2021-02-15\",\"2021-02-14\",\"2021-02-10\",\"2021-02-09\",\"2021-02-06\",\"2021-02-04\",\"2021-02-03\",\"2021-02-02\",\"2021-01-30\",\"2021-01-28\",\"2021-01-25\",\"2021-01-19\",\"2021-01-13\",\"2021-01-09\",\"2021-01-08\",\"2021-01-06\"],\"y\":[2,2,2,1,1,0,2,3,4,4,6,5,5,4,2,3,2,2,3,3,3,3,3,1,1,4,3,3,3,2,1,1,2,2,1,3,3,3,3,2,1,1,1,4,4,6,6,6,4,6,5,4,10,5,2,5,3,2,3,3,1,2,1,1,1,2,2,2,0,0,0,0,0,0,0,1,2,2,3,3,2,3,4,5,5,5,5,7,6,3,4,8,11,13,14,12,7,8,10,6,6,4,2,2,3,1,1,3,2,3,6,10,11,13,17,19,16,8,5,5,8,11,13,13,11,10,8,9,8,7,8,7,7,3,6,7,8,1,0,2,2,3,4,4,4,3,3,3,2,5,4,4,4,5,4,3,3,2,2,1,3,3,3,3,3,3,4,5,8,8,9,4,5,4,5,5,5,12,10,3,5,1,2,1,2,2,0,0,0,0,0,3,3,2,2,5,4,5,3,2,3,4,5,4,5,5,4,4,6,7,13,13,9,5,8,10,6,8,3,1,4,1,7,13,10,10,11,12,12,13,11,10,8,7,7,7,3,3,2,4,6,7,8,7,1,9,5,5,3,4,9,7,7,7,10,11,17,20,10,8,8,7,6,6,2,2,2,4,5,3,3,4,4,1,1,0,0,0,1,5,3,1,1,0,1,2,3,1,1,1,0,0,1,2,2,0,0,0,0,1,3,3,3,3,1,1,2,3,2,2,3,5,6,8,8,8,8,8,10,11,11,11,13,14,14,18,28,29,29,40,53,54,50,51,42,37,41,37,41,33,30,21,27,26,24,2,3,3,3,1,1,3,4,3,3,1,2,1,3,5,5,5,5,5,3,3,3,2,2,3,3,2,3,2,2,2,1,1,3,8,8,8,5,5,8,8,10,10,6,4,4,5,6,6,2,2,3,3,3,4,3,2,0,2,2,0,0,0,0,2,2,2,5,4,6,6,6,3,2,7,7,14,16,10,8,8,9,8,9,6,3,3,3,4,4,2,6,15,15,17,6,6,12,11,9,7,9,4,4,5,7,8,7,8,6,4,5,7,6,8,7,6,4,2,5,7,6,7,5,4,5,7,6,7,7,10,10,11,14,19,9,6,8,6,3,3,3,1,2,0,0,1,3,4,6,6,4,1,1,0,0,2,2,1,1,1,1,1,1,0,0,0,0,1,2,3,3,0,0,0,0,0,0,3,3,1,2,2,3,2,4,5,4,7,7,7,7,9,12,12,12,13,13,13,20,35,35,38,41,50,50,43,38,40,45,41,35,25,26,7,6,5,5,7,7,7,8,7,5,3,3,3,8,8,8,5,7,4,4,5,5,5,3,9,10,14,15,16,12,9,9,8,7,7,6,2,2,2,2,1,3,3,4,5,5,2,3,4,4,0,6,5,1,0,2,3,2,2,0,0,0,3,3,1,0,0,0,0,0,1,3,1,2,2,2,2,1,3,2,2,7,7,11,11,12,14,13,14,27,28,28,28,29,32,35,38,42,49,52,54,55,47,44,35,39,25,24,25],\"type\":\"scatter\"}],                        {\"template\":{\"data\":{\"histogram2dcontour\":[{\"type\":\"histogram2dcontour\",\"colorbar\":{\"outlinewidth\":0,\"ticks\":\"\"},\"colorscale\":[[0.0,\"#0d0887\"],[0.1111111111111111,\"#46039f\"],[0.2222222222222222,\"#7201a8\"],[0.3333333333333333,\"#9c179e\"],[0.4444444444444444,\"#bd3786\"],[0.5555555555555556,\"#d8576b\"],[0.6666666666666666,\"#ed7953\"],[0.7777777777777778,\"#fb9f3a\"],[0.8888888888888888,\"#fdca26\"],[1.0,\"#f0f921\"]]}],\"choropleth\":[{\"type\":\"choropleth\",\"colorbar\":{\"outlinewidth\":0,\"ticks\":\"\"}}],\"histogram2d\":[{\"type\":\"histogram2d\",\"colorbar\":{\"outlinewidth\":0,\"ticks\":\"\"},\"colorscale\":[[0.0,\"#0d0887\"],[0.1111111111111111,\"#46039f\"],[0.2222222222222222,\"#7201a8\"],[0.3333333333333333,\"#9c179e\"],[0.4444444444444444,\"#bd3786\"],[0.5555555555555556,\"#d8576b\"],[0.6666666666666666,\"#ed7953\"],[0.7777777777777778,\"#fb9f3a\"],[0.8888888888888888,\"#fdca26\"],[1.0,\"#f0f921\"]]}],\"heatmap\":[{\"type\":\"heatmap\",\"colorbar\":{\"outlinewidth\":0,\"ticks\":\"\"},\"colorscale\":[[0.0,\"#0d0887\"],[0.1111111111111111,\"#46039f\"],[0.2222222222222222,\"#7201a8\"],[0.3333333333333333,\"#9c179e\"],[0.4444444444444444,\"#bd3786\"],[0.5555555555555556,\"#d8576b\"],[0.6666666666666666,\"#ed7953\"],[0.7777777777777778,\"#fb9f3a\"],[0.8888888888888888,\"#fdca26\"],[1.0,\"#f0f921\"]]}],\"heatmapgl\":[{\"type\":\"heatmapgl\",\"colorbar\":{\"outlinewidth\":0,\"ticks\":\"\"},\"colorscale\":[[0.0,\"#0d0887\"],[0.1111111111111111,\"#46039f\"],[0.2222222222222222,\"#7201a8\"],[0.3333333333333333,\"#9c179e\"],[0.4444444444444444,\"#bd3786\"],[0.5555555555555556,\"#d8576b\"],[0.6666666666666666,\"#ed7953\"],[0.7777777777777778,\"#fb9f3a\"],[0.8888888888888888,\"#fdca26\"],[1.0,\"#f0f921\"]]}],\"contourcarpet\":[{\"type\":\"contourcarpet\",\"colorbar\":{\"outlinewidth\":0,\"ticks\":\"\"}}],\"contour\":[{\"type\":\"contour\",\"colorbar\":{\"outlinewidth\":0,\"ticks\":\"\"},\"colorscale\":[[0.0,\"#0d0887\"],[0.1111111111111111,\"#46039f\"],[0.2222222222222222,\"#7201a8\"],[0.3333333333333333,\"#9c179e\"],[0.4444444444444444,\"#bd3786\"],[0.5555555555555556,\"#d8576b\"],[0.6666666666666666,\"#ed7953\"],[0.7777777777777778,\"#fb9f3a\"],[0.8888888888888888,\"#fdca26\"],[1.0,\"#f0f921\"]]}],\"surface\":[{\"type\":\"surface\",\"colorbar\":{\"outlinewidth\":0,\"ticks\":\"\"},\"colorscale\":[[0.0,\"#0d0887\"],[0.1111111111111111,\"#46039f\"],[0.2222222222222222,\"#7201a8\"],[0.3333333333333333,\"#9c179e\"],[0.4444444444444444,\"#bd3786\"],[0.5555555555555556,\"#d8576b\"],[0.6666666666666666,\"#ed7953\"],[0.7777777777777778,\"#fb9f3a\"],[0.8888888888888888,\"#fdca26\"],[1.0,\"#f0f921\"]]}],\"mesh3d\":[{\"type\":\"mesh3d\",\"colorbar\":{\"outlinewidth\":0,\"ticks\":\"\"}}],\"scatter\":[{\"fillpattern\":{\"fillmode\":\"overlay\",\"size\":10,\"solidity\":0.2},\"type\":\"scatter\"}],\"parcoords\":[{\"type\":\"parcoords\",\"line\":{\"colorbar\":{\"outlinewidth\":0,\"ticks\":\"\"}}}],\"scatterpolargl\":[{\"type\":\"scatterpolargl\",\"marker\":{\"colorbar\":{\"outlinewidth\":0,\"ticks\":\"\"}}}],\"bar\":[{\"error_x\":{\"color\":\"#2a3f5f\"},\"error_y\":{\"color\":\"#2a3f5f\"},\"marker\":{\"line\":{\"color\":\"#E5ECF6\",\"width\":0.5},\"pattern\":{\"fillmode\":\"overlay\",\"size\":10,\"solidity\":0.2}},\"type\":\"bar\"}],\"scattergeo\":[{\"type\":\"scattergeo\",\"marker\":{\"colorbar\":{\"outlinewidth\":0,\"ticks\":\"\"}}}],\"scatterpolar\":[{\"type\":\"scatterpolar\",\"marker\":{\"colorbar\":{\"outlinewidth\":0,\"ticks\":\"\"}}}],\"histogram\":[{\"marker\":{\"pattern\":{\"fillmode\":\"overlay\",\"size\":10,\"solidity\":0.2}},\"type\":\"histogram\"}],\"scattergl\":[{\"type\":\"scattergl\",\"marker\":{\"colorbar\":{\"outlinewidth\":0,\"ticks\":\"\"}}}],\"scatter3d\":[{\"type\":\"scatter3d\",\"line\":{\"colorbar\":{\"outlinewidth\":0,\"ticks\":\"\"}},\"marker\":{\"colorbar\":{\"outlinewidth\":0,\"ticks\":\"\"}}}],\"scattermapbox\":[{\"type\":\"scattermapbox\",\"marker\":{\"colorbar\":{\"outlinewidth\":0,\"ticks\":\"\"}}}],\"scatterternary\":[{\"type\":\"scatterternary\",\"marker\":{\"colorbar\":{\"outlinewidth\":0,\"ticks\":\"\"}}}],\"scattercarpet\":[{\"type\":\"scattercarpet\",\"marker\":{\"colorbar\":{\"outlinewidth\":0,\"ticks\":\"\"}}}],\"carpet\":[{\"aaxis\":{\"endlinecolor\":\"#2a3f5f\",\"gridcolor\":\"white\",\"linecolor\":\"white\",\"minorgridcolor\":\"white\",\"startlinecolor\":\"#2a3f5f\"},\"baxis\":{\"endlinecolor\":\"#2a3f5f\",\"gridcolor\":\"white\",\"linecolor\":\"white\",\"minorgridcolor\":\"white\",\"startlinecolor\":\"#2a3f5f\"},\"type\":\"carpet\"}],\"table\":[{\"cells\":{\"fill\":{\"color\":\"#EBF0F8\"},\"line\":{\"color\":\"white\"}},\"header\":{\"fill\":{\"color\":\"#C8D4E3\"},\"line\":{\"color\":\"white\"}},\"type\":\"table\"}],\"barpolar\":[{\"marker\":{\"line\":{\"color\":\"#E5ECF6\",\"width\":0.5},\"pattern\":{\"fillmode\":\"overlay\",\"size\":10,\"solidity\":0.2}},\"type\":\"barpolar\"}],\"pie\":[{\"automargin\":true,\"type\":\"pie\"}]},\"layout\":{\"autotypenumbers\":\"strict\",\"colorway\":[\"#636efa\",\"#EF553B\",\"#00cc96\",\"#ab63fa\",\"#FFA15A\",\"#19d3f3\",\"#FF6692\",\"#B6E880\",\"#FF97FF\",\"#FECB52\"],\"font\":{\"color\":\"#2a3f5f\"},\"hovermode\":\"closest\",\"hoverlabel\":{\"align\":\"left\"},\"paper_bgcolor\":\"white\",\"plot_bgcolor\":\"#E5ECF6\",\"polar\":{\"bgcolor\":\"#E5ECF6\",\"angularaxis\":{\"gridcolor\":\"white\",\"linecolor\":\"white\",\"ticks\":\"\"},\"radialaxis\":{\"gridcolor\":\"white\",\"linecolor\":\"white\",\"ticks\":\"\"}},\"ternary\":{\"bgcolor\":\"#E5ECF6\",\"aaxis\":{\"gridcolor\":\"white\",\"linecolor\":\"white\",\"ticks\":\"\"},\"baxis\":{\"gridcolor\":\"white\",\"linecolor\":\"white\",\"ticks\":\"\"},\"caxis\":{\"gridcolor\":\"white\",\"linecolor\":\"white\",\"ticks\":\"\"}},\"coloraxis\":{\"colorbar\":{\"outlinewidth\":0,\"ticks\":\"\"}},\"colorscale\":{\"sequential\":[[0.0,\"#0d0887\"],[0.1111111111111111,\"#46039f\"],[0.2222222222222222,\"#7201a8\"],[0.3333333333333333,\"#9c179e\"],[0.4444444444444444,\"#bd3786\"],[0.5555555555555556,\"#d8576b\"],[0.6666666666666666,\"#ed7953\"],[0.7777777777777778,\"#fb9f3a\"],[0.8888888888888888,\"#fdca26\"],[1.0,\"#f0f921\"]],\"sequentialminus\":[[0.0,\"#0d0887\"],[0.1111111111111111,\"#46039f\"],[0.2222222222222222,\"#7201a8\"],[0.3333333333333333,\"#9c179e\"],[0.4444444444444444,\"#bd3786\"],[0.5555555555555556,\"#d8576b\"],[0.6666666666666666,\"#ed7953\"],[0.7777777777777778,\"#fb9f3a\"],[0.8888888888888888,\"#fdca26\"],[1.0,\"#f0f921\"]],\"diverging\":[[0,\"#8e0152\"],[0.1,\"#c51b7d\"],[0.2,\"#de77ae\"],[0.3,\"#f1b6da\"],[0.4,\"#fde0ef\"],[0.5,\"#f7f7f7\"],[0.6,\"#e6f5d0\"],[0.7,\"#b8e186\"],[0.8,\"#7fbc41\"],[0.9,\"#4d9221\"],[1,\"#276419\"]]},\"xaxis\":{\"gridcolor\":\"white\",\"linecolor\":\"white\",\"ticks\":\"\",\"title\":{\"standoff\":15},\"zerolinecolor\":\"white\",\"automargin\":true,\"zerolinewidth\":2},\"yaxis\":{\"gridcolor\":\"white\",\"linecolor\":\"white\",\"ticks\":\"\",\"title\":{\"standoff\":15},\"zerolinecolor\":\"white\",\"automargin\":true,\"zerolinewidth\":2},\"scene\":{\"xaxis\":{\"backgroundcolor\":\"#E5ECF6\",\"gridcolor\":\"white\",\"linecolor\":\"white\",\"showbackground\":true,\"ticks\":\"\",\"zerolinecolor\":\"white\",\"gridwidth\":2},\"yaxis\":{\"backgroundcolor\":\"#E5ECF6\",\"gridcolor\":\"white\",\"linecolor\":\"white\",\"showbackground\":true,\"ticks\":\"\",\"zerolinecolor\":\"white\",\"gridwidth\":2},\"zaxis\":{\"backgroundcolor\":\"#E5ECF6\",\"gridcolor\":\"white\",\"linecolor\":\"white\",\"showbackground\":true,\"ticks\":\"\",\"zerolinecolor\":\"white\",\"gridwidth\":2}},\"shapedefaults\":{\"line\":{\"color\":\"#2a3f5f\"}},\"annotationdefaults\":{\"arrowcolor\":\"#2a3f5f\",\"arrowhead\":0,\"arrowwidth\":1},\"geo\":{\"bgcolor\":\"white\",\"landcolor\":\"#E5ECF6\",\"subunitcolor\":\"white\",\"showland\":true,\"showlakes\":true,\"lakecolor\":\"white\"},\"title\":{\"x\":0.05},\"mapbox\":{\"style\":\"light\"}}},\"xaxis\":{\"rangeslider\":{\"visible\":true},\"rangeselector\":{\"buttons\":[{\"count\":1,\"step\":\"day\",\"stepmode\":\"backward\"}]}}},                        {\"responsive\": true}                    ).then(function(){\n",
              "                            \n",
              "var gd = document.getElementById('920860ec-dad2-4c41-9920-34c04e51ae6b');\n",
              "var x = new MutationObserver(function (mutations, observer) {{\n",
              "        var display = window.getComputedStyle(gd).display;\n",
              "        if (!display || display === 'none') {{\n",
              "            console.log([gd, 'removed!']);\n",
              "            Plotly.purge(gd);\n",
              "            observer.disconnect();\n",
              "        }}\n",
              "}});\n",
              "\n",
              "// Listen for the removal of the full notebook cells\n",
              "var notebookContainer = gd.closest('#notebook-container');\n",
              "if (notebookContainer) {{\n",
              "    x.observe(notebookContainer, {childList: true});\n",
              "}}\n",
              "\n",
              "// Listen for the clearing of the current output cell\n",
              "var outputEl = gd.closest('.output');\n",
              "if (outputEl) {{\n",
              "    x.observe(outputEl, {childList: true});\n",
              "}}\n",
              "\n",
              "                        })                };                            </script>        </div>\n",
              "</body>\n",
              "</html>"
            ]
          },
          "metadata": {}
        }
      ]
    },
    {
      "cell_type": "code",
      "source": [
        "fig = px.histogram(df_1, x=\"date\", y='7 day rolling death count')#, color='Gender')\n",
        "fig.show()"
      ],
      "metadata": {
        "colab": {
          "base_uri": "https://localhost:8080/",
          "height": 542
        },
        "id": "moydOIgMTDKO",
        "outputId": "29390645-9ed9-4708-f6fa-ef8144129bdb"
      },
      "execution_count": 34,
      "outputs": [
        {
          "output_type": "display_data",
          "data": {
            "text/html": [
              "<html>\n",
              "<head><meta charset=\"utf-8\" /></head>\n",
              "<body>\n",
              "    <div>            <script src=\"https://cdnjs.cloudflare.com/ajax/libs/mathjax/2.7.5/MathJax.js?config=TeX-AMS-MML_SVG\"></script><script type=\"text/javascript\">if (window.MathJax && window.MathJax.Hub && window.MathJax.Hub.Config) {window.MathJax.Hub.Config({SVG: {font: \"STIX-Web\"}});}</script>                <script type=\"text/javascript\">window.PlotlyConfig = {MathJaxConfig: 'local'};</script>\n",
              "        <script src=\"https://cdn.plot.ly/plotly-2.18.2.min.js\"></script>                <div id=\"44fa896e-4022-4ad1-9550-4b71ed346b9d\" class=\"plotly-graph-div\" style=\"height:525px; width:100%;\"></div>            <script type=\"text/javascript\">                                    window.PLOTLYENV=window.PLOTLYENV || {};                                    if (document.getElementById(\"44fa896e-4022-4ad1-9550-4b71ed346b9d\")) {                    Plotly.newPlot(                        \"44fa896e-4022-4ad1-9550-4b71ed346b9d\",                        [{\"alignmentgroup\":\"True\",\"bingroup\":\"x\",\"histfunc\":\"sum\",\"hovertemplate\":\"date=%{x}<br>sum of 7 day rolling death count=%{y}<extra></extra>\",\"legendgroup\":\"\",\"marker\":{\"color\":\"#636efa\",\"pattern\":{\"shape\":\"\"}},\"name\":\"\",\"offsetgroup\":\"\",\"orientation\":\"v\",\"showlegend\":false,\"x\":[\"2022-11-29\",\"2022-11-28\",\"2022-11-27\",\"2022-11-22\",\"2022-11-21\",\"2022-11-18\",\"2022-11-14\",\"2022-11-12\",\"2022-11-11\",\"2022-11-08\",\"2022-11-07\",\"2022-11-06\",\"2022-11-05\",\"2022-11-04\",\"2022-10-31\",\"2022-10-29\",\"2022-10-20\",\"2022-10-19\",\"2022-10-18\",\"2022-10-13\",\"2022-10-01\",\"2022-09-29\",\"2022-09-26\",\"2022-09-25\",\"2022-09-24\",\"2022-09-20\",\"2022-09-18\",\"2022-09-17\",\"2022-09-15\",\"2022-09-14\",\"2022-09-12\",\"2022-09-11\",\"2022-09-07\",\"2022-09-06\",\"2022-09-03\",\"2022-09-01\",\"2022-08-30\",\"2022-08-29\",\"2022-08-27\",\"2022-08-23\",\"2022-08-22\",\"2022-08-21\",\"2022-08-19\",\"2022-08-15\",\"2022-08-14\",\"2022-08-13\",\"2022-08-10\",\"2022-08-03\",\"2022-07-30\",\"2022-07-28\",\"2022-07-27\",\"2022-07-26\",\"2022-07-17\",\"2022-07-14\",\"2022-07-12\",\"2022-07-10\",\"2022-07-04\",\"2022-07-01\",\"2022-06-28\",\"2022-06-26\",\"2022-06-22\",\"2022-06-21\",\"2022-06-17\",\"2022-06-16\",\"2022-06-15\",\"2022-06-13\",\"2022-06-12\",\"2022-06-08\",\"2022-06-05\",\"2022-05-31\",\"2022-05-30\",\"2022-05-27\",\"2022-05-26\",\"2022-05-24\",\"2022-05-23\",\"2022-05-21\",\"2022-05-19\",\"2022-05-18\",\"2022-05-17\",\"2022-05-16\",\"2022-05-13\",\"2022-05-08\",\"2022-05-07\",\"2022-05-06\",\"2022-04-26\",\"2022-04-24\",\"2022-04-21\",\"2022-04-19\",\"2022-04-17\",\"2022-04-11\",\"2022-04-10\",\"2022-04-04\",\"2022-04-03\",\"2022-03-30\",\"2022-03-28\",\"2022-03-27\",\"2022-03-21\",\"2022-03-19\",\"2022-03-15\",\"2022-03-11\",\"2022-03-09\",\"2022-03-08\",\"2022-03-07\",\"2022-03-06\",\"2022-03-05\",\"2022-03-03\",\"2022-03-02\",\"2022-02-25\",\"2022-02-19\",\"2022-02-18\",\"2022-02-16\",\"2022-02-14\",\"2022-02-13\",\"2022-02-12\",\"2022-02-09\",\"2022-02-08\",\"2022-02-06\",\"2022-02-03\",\"2022-02-01\",\"2022-01-31\",\"2022-01-29\",\"2022-01-26\",\"2022-01-23\",\"2022-01-22\",\"2022-01-20\",\"2022-01-16\",\"2022-01-14\",\"2022-01-12\",\"2022-01-11\",\"2022-01-09\",\"2022-01-06\",\"2022-01-05\",\"2022-01-01\",\"2021-11-26\",\"2021-11-22\",\"2021-11-19\",\"2021-11-18\",\"2022-11-20\",\"2022-11-19\",\"2022-11-16\",\"2022-11-15\",\"2022-11-13\",\"2022-11-10\",\"2022-11-09\",\"2022-11-03\",\"2022-11-02\",\"2022-11-01\",\"2022-10-26\",\"2022-10-24\",\"2022-10-16\",\"2022-10-15\",\"2022-10-14\",\"2022-10-12\",\"2022-10-11\",\"2022-10-05\",\"2022-09-30\",\"2022-09-28\",\"2022-09-23\",\"2022-09-16\",\"2022-09-13\",\"2022-09-10\",\"2022-09-09\",\"2022-09-05\",\"2022-09-04\",\"2022-09-02\",\"2022-08-28\",\"2022-08-16\",\"2022-08-12\",\"2022-08-09\",\"2022-08-08\",\"2022-08-07\",\"2022-08-02\",\"2022-08-01\",\"2022-07-31\",\"2022-07-29\",\"2022-07-25\",\"2022-07-24\",\"2022-07-19\",\"2022-07-16\",\"2022-07-13\",\"2022-07-05\",\"2022-06-23\",\"2022-06-20\",\"2022-06-18\",\"2022-06-09\",\"2022-06-07\",\"2022-06-04\",\"2022-06-02\",\"2022-05-28\",\"2022-05-25\",\"2022-05-22\",\"2022-05-15\",\"2022-05-14\",\"2022-05-11\",\"2022-05-10\",\"2022-05-04\",\"2022-05-03\",\"2022-05-02\",\"2022-04-30\",\"2022-04-29\",\"2022-04-28\",\"2022-04-27\",\"2022-04-25\",\"2022-04-23\",\"2022-04-22\",\"2022-04-15\",\"2022-04-14\",\"2022-04-09\",\"2022-04-08\",\"2022-04-05\",\"2022-04-01\",\"2022-03-31\",\"2022-03-25\",\"2022-03-22\",\"2022-03-18\",\"2022-03-14\",\"2022-03-13\",\"2022-03-10\",\"2022-03-04\",\"2022-03-01\",\"2022-02-27\",\"2022-02-20\",\"2022-02-15\",\"2022-02-05\",\"2022-02-04\",\"2022-01-28\",\"2022-01-27\",\"2022-01-25\",\"2022-01-24\",\"2022-01-21\",\"2022-01-17\",\"2022-01-15\",\"2022-01-10\",\"2022-01-07\",\"2022-01-04\",\"2022-01-03\",\"2021-11-30\",\"2021-11-28\",\"2021-11-27\",\"2021-11-25\",\"2021-11-21\",\"2021-11-20\",\"2021-11-05\",\"2021-10-30\",\"2021-10-21\",\"2021-10-14\",\"2021-10-08\",\"2021-10-07\",\"2021-10-04\",\"2021-10-02\",\"2021-09-26\",\"2021-09-22\",\"2021-09-21\",\"2021-09-18\",\"2021-09-14\",\"2021-09-12\",\"2021-09-07\",\"2021-09-05\",\"2021-09-02\",\"2021-08-28\",\"2021-08-26\",\"2021-08-25\",\"2021-08-21\",\"2021-08-20\",\"2021-08-13\",\"2021-08-12\",\"2021-08-11\",\"2021-08-04\",\"2021-08-01\",\"2021-07-28\",\"2021-07-26\",\"2021-07-24\",\"2021-07-22\",\"2021-07-20\",\"2021-07-19\",\"2021-07-18\",\"2021-07-17\",\"2021-07-15\",\"2021-07-11\",\"2021-07-05\",\"2021-07-02\",\"2021-06-30\",\"2021-06-27\",\"2021-06-26\",\"2021-06-22\",\"2021-06-21\",\"2021-06-16\",\"2021-06-14\",\"2021-06-08\",\"2021-06-05\",\"2021-06-02\",\"2021-05-27\",\"2021-05-26\",\"2021-05-19\",\"2021-05-18\",\"2021-05-15\",\"2021-05-13\",\"2021-05-05\",\"2021-05-04\",\"2021-04-30\",\"2021-04-28\",\"2021-04-27\",\"2021-04-26\",\"2021-04-23\",\"2021-04-21\",\"2021-04-17\",\"2021-04-16\",\"2021-04-13\",\"2021-04-12\",\"2021-04-11\",\"2021-04-05\",\"2021-03-30\",\"2021-03-28\",\"2021-03-26\",\"2021-03-24\",\"2021-03-23\",\"2021-03-18\",\"2021-03-17\",\"2021-03-15\",\"2021-03-12\",\"2021-03-09\",\"2021-03-07\",\"2021-03-05\",\"2021-03-04\",\"2021-02-26\",\"2021-02-24\",\"2021-02-20\",\"2021-02-17\",\"2021-02-16\",\"2021-02-07\",\"2021-02-01\",\"2021-01-31\",\"2021-01-27\",\"2021-01-26\",\"2021-01-24\",\"2021-01-23\",\"2021-01-22\",\"2021-01-20\",\"2021-01-15\",\"2021-01-11\",\"2021-01-10\",\"2021-01-07\",\"2021-01-05\",\"2021-01-04\",\"2021-01-01\",\"2022-11-30\",\"2022-11-26\",\"2022-11-25\",\"2022-11-24\",\"2022-11-23\",\"2022-11-17\",\"2022-10-30\",\"2022-10-28\",\"2022-10-27\",\"2022-10-25\",\"2022-10-23\",\"2022-10-22\",\"2022-10-21\",\"2022-10-17\",\"2022-10-10\",\"2022-10-09\",\"2022-10-08\",\"2022-10-07\",\"2022-10-06\",\"2022-10-04\",\"2022-10-03\",\"2022-10-02\",\"2022-09-27\",\"2022-09-22\",\"2022-09-21\",\"2022-09-19\",\"2022-09-08\",\"2022-08-31\",\"2022-08-26\",\"2022-08-25\",\"2022-08-24\",\"2022-08-20\",\"2022-08-18\",\"2022-08-17\",\"2022-08-11\",\"2022-08-06\",\"2022-08-05\",\"2022-08-04\",\"2022-07-23\",\"2022-07-22\",\"2022-07-21\",\"2022-07-20\",\"2022-07-18\",\"2022-07-15\",\"2022-07-11\",\"2022-07-09\",\"2022-07-08\",\"2022-07-07\",\"2022-07-06\",\"2022-07-03\",\"2022-07-02\",\"2022-06-30\",\"2022-06-29\",\"2022-06-27\",\"2022-06-25\",\"2022-06-24\",\"2022-06-19\",\"2022-06-14\",\"2022-06-11\",\"2022-06-10\",\"2022-06-06\",\"2022-06-03\",\"2022-06-01\",\"2022-05-29\",\"2022-05-20\",\"2022-05-12\",\"2022-05-09\",\"2022-05-05\",\"2022-05-01\",\"2022-04-20\",\"2022-04-18\",\"2022-04-16\",\"2022-04-13\",\"2022-04-12\",\"2022-04-07\",\"2022-04-06\",\"2022-04-02\",\"2022-03-29\",\"2022-03-26\",\"2022-03-24\",\"2022-03-23\",\"2022-03-20\",\"2022-03-17\",\"2022-03-16\",\"2022-03-12\",\"2022-02-28\",\"2022-02-26\",\"2022-02-24\",\"2022-02-23\",\"2022-02-22\",\"2022-02-21\",\"2022-02-17\",\"2022-02-11\",\"2022-02-10\",\"2022-02-07\",\"2022-02-02\",\"2022-01-30\",\"2022-01-19\",\"2022-01-18\",\"2022-01-13\",\"2022-01-08\",\"2022-01-02\",\"2021-11-29\",\"2021-11-24\",\"2021-11-23\",\"2021-11-17\",\"2021-11-16\",\"2021-11-15\",\"2021-11-14\",\"2021-11-10\",\"2021-11-08\",\"2021-11-07\",\"2021-11-04\",\"2021-10-29\",\"2021-10-28\",\"2021-10-27\",\"2021-10-26\",\"2021-10-24\",\"2021-10-20\",\"2021-10-18\",\"2021-10-17\",\"2021-10-16\",\"2021-10-11\",\"2021-10-06\",\"2021-09-30\",\"2021-09-27\",\"2021-09-25\",\"2021-09-24\",\"2021-09-23\",\"2021-09-20\",\"2021-09-16\",\"2021-09-15\",\"2021-09-11\",\"2021-09-09\",\"2021-09-06\",\"2021-08-31\",\"2021-08-29\",\"2021-08-24\",\"2021-08-18\",\"2021-08-17\",\"2021-08-15\",\"2021-07-31\",\"2021-07-29\",\"2021-07-21\",\"2021-07-16\",\"2021-07-14\",\"2021-07-12\",\"2021-07-10\",\"2021-07-09\",\"2021-07-07\",\"2021-07-06\",\"2021-07-03\",\"2021-06-29\",\"2021-06-28\",\"2021-06-24\",\"2021-06-23\",\"2021-06-19\",\"2021-06-18\",\"2021-06-13\",\"2021-06-12\",\"2021-06-10\",\"2021-06-09\",\"2021-06-07\",\"2021-06-06\",\"2021-06-03\",\"2021-05-30\",\"2021-05-29\",\"2021-05-28\",\"2021-05-25\",\"2021-05-24\",\"2021-05-23\",\"2021-05-21\",\"2021-05-16\",\"2021-05-12\",\"2021-05-11\",\"2021-05-08\",\"2021-05-06\",\"2021-05-02\",\"2021-04-25\",\"2021-04-24\",\"2021-04-20\",\"2021-04-18\",\"2021-04-14\",\"2021-04-10\",\"2021-04-08\",\"2021-04-01\",\"2021-03-31\",\"2021-03-29\",\"2021-03-27\",\"2021-03-22\",\"2021-03-20\",\"2021-03-19\",\"2021-03-16\",\"2021-03-11\",\"2021-03-10\",\"2021-03-08\",\"2021-03-03\",\"2021-02-28\",\"2021-02-27\",\"2021-02-23\",\"2021-02-13\",\"2021-02-12\",\"2021-02-11\",\"2021-02-08\",\"2021-02-05\",\"2021-01-29\",\"2021-01-21\",\"2021-01-18\",\"2021-01-17\",\"2021-01-16\",\"2021-01-14\",\"2021-01-12\",\"2021-01-03\",\"2021-01-02\",\"2021-11-13\",\"2021-11-12\",\"2021-11-11\",\"2021-11-09\",\"2021-11-06\",\"2021-11-03\",\"2021-11-02\",\"2021-11-01\",\"2021-10-31\",\"2021-10-25\",\"2021-10-23\",\"2021-10-22\",\"2021-10-19\",\"2021-10-15\",\"2021-10-13\",\"2021-10-12\",\"2021-10-10\",\"2021-10-09\",\"2021-10-05\",\"2021-10-03\",\"2021-10-01\",\"2021-09-29\",\"2021-09-28\",\"2021-09-19\",\"2021-09-17\",\"2021-09-13\",\"2021-09-10\",\"2021-09-08\",\"2021-09-04\",\"2021-09-03\",\"2021-09-01\",\"2021-08-30\",\"2021-08-27\",\"2021-08-23\",\"2021-08-22\",\"2021-08-19\",\"2021-08-16\",\"2021-08-14\",\"2021-08-10\",\"2021-08-09\",\"2021-08-08\",\"2021-08-07\",\"2021-08-06\",\"2021-08-05\",\"2021-08-03\",\"2021-08-02\",\"2021-07-30\",\"2021-07-27\",\"2021-07-25\",\"2021-07-23\",\"2021-07-13\",\"2021-07-08\",\"2021-07-04\",\"2021-07-01\",\"2021-06-25\",\"2021-06-20\",\"2021-06-17\",\"2021-06-15\",\"2021-06-11\",\"2021-06-04\",\"2021-06-01\",\"2021-05-31\",\"2021-05-22\",\"2021-05-20\",\"2021-05-17\",\"2021-05-14\",\"2021-05-10\",\"2021-05-09\",\"2021-05-07\",\"2021-05-03\",\"2021-05-01\",\"2021-04-29\",\"2021-04-22\",\"2021-04-19\",\"2021-04-15\",\"2021-04-09\",\"2021-04-07\",\"2021-04-06\",\"2021-04-04\",\"2021-04-03\",\"2021-04-02\",\"2021-03-25\",\"2021-03-21\",\"2021-03-14\",\"2021-03-13\",\"2021-03-06\",\"2021-03-02\",\"2021-03-01\",\"2021-02-25\",\"2021-02-22\",\"2021-02-21\",\"2021-02-19\",\"2021-02-18\",\"2021-02-15\",\"2021-02-14\",\"2021-02-10\",\"2021-02-09\",\"2021-02-06\",\"2021-02-04\",\"2021-02-03\",\"2021-02-02\",\"2021-01-30\",\"2021-01-28\",\"2021-01-25\",\"2021-01-19\",\"2021-01-13\",\"2021-01-09\",\"2021-01-08\",\"2021-01-06\"],\"xaxis\":\"x\",\"y\":[2,2,2,1,1,0,2,3,4,4,6,5,5,4,2,3,2,2,3,3,3,3,3,1,1,4,3,3,3,2,1,1,2,2,1,3,3,3,3,2,1,1,1,4,4,6,6,6,4,6,5,4,10,5,2,5,3,2,3,3,1,2,1,1,1,2,2,2,0,0,0,0,0,0,0,1,2,2,3,3,2,3,4,5,5,5,5,7,6,3,4,8,11,13,14,12,7,8,10,6,6,4,2,2,3,1,1,3,2,3,6,10,11,13,17,19,16,8,5,5,8,11,13,13,11,10,8,9,8,7,8,7,7,3,6,7,8,1,0,2,2,3,4,4,4,3,3,3,2,5,4,4,4,5,4,3,3,2,2,1,3,3,3,3,3,3,4,5,8,8,9,4,5,4,5,5,5,12,10,3,5,1,2,1,2,2,0,0,0,0,0,3,3,2,2,5,4,5,3,2,3,4,5,4,5,5,4,4,6,7,13,13,9,5,8,10,6,8,3,1,4,1,7,13,10,10,11,12,12,13,11,10,8,7,7,7,3,3,2,4,6,7,8,7,1,9,5,5,3,4,9,7,7,7,10,11,17,20,10,8,8,7,6,6,2,2,2,4,5,3,3,4,4,1,1,0,0,0,1,5,3,1,1,0,1,2,3,1,1,1,0,0,1,2,2,0,0,0,0,1,3,3,3,3,1,1,2,3,2,2,3,5,6,8,8,8,8,8,10,11,11,11,13,14,14,18,28,29,29,40,53,54,50,51,42,37,41,37,41,33,30,21,27,26,24,2,3,3,3,1,1,3,4,3,3,1,2,1,3,5,5,5,5,5,3,3,3,2,2,3,3,2,3,2,2,2,1,1,3,8,8,8,5,5,8,8,10,10,6,4,4,5,6,6,2,2,3,3,3,4,3,2,0,2,2,0,0,0,0,2,2,2,5,4,6,6,6,3,2,7,7,14,16,10,8,8,9,8,9,6,3,3,3,4,4,2,6,15,15,17,6,6,12,11,9,7,9,4,4,5,7,8,7,8,6,4,5,7,6,8,7,6,4,2,5,7,6,7,5,4,5,7,6,7,7,10,10,11,14,19,9,6,8,6,3,3,3,1,2,0,0,1,3,4,6,6,4,1,1,0,0,2,2,1,1,1,1,1,1,0,0,0,0,1,2,3,3,0,0,0,0,0,0,3,3,1,2,2,3,2,4,5,4,7,7,7,7,9,12,12,12,13,13,13,20,35,35,38,41,50,50,43,38,40,45,41,35,25,26,7,6,5,5,7,7,7,8,7,5,3,3,3,8,8,8,5,7,4,4,5,5,5,3,9,10,14,15,16,12,9,9,8,7,7,6,2,2,2,2,1,3,3,4,5,5,2,3,4,4,0,6,5,1,0,2,3,2,2,0,0,0,3,3,1,0,0,0,0,0,1,3,1,2,2,2,2,1,3,2,2,7,7,11,11,12,14,13,14,27,28,28,28,29,32,35,38,42,49,52,54,55,47,44,35,39,25,24,25],\"yaxis\":\"y\",\"type\":\"histogram\"}],                        {\"template\":{\"data\":{\"histogram2dcontour\":[{\"type\":\"histogram2dcontour\",\"colorbar\":{\"outlinewidth\":0,\"ticks\":\"\"},\"colorscale\":[[0.0,\"#0d0887\"],[0.1111111111111111,\"#46039f\"],[0.2222222222222222,\"#7201a8\"],[0.3333333333333333,\"#9c179e\"],[0.4444444444444444,\"#bd3786\"],[0.5555555555555556,\"#d8576b\"],[0.6666666666666666,\"#ed7953\"],[0.7777777777777778,\"#fb9f3a\"],[0.8888888888888888,\"#fdca26\"],[1.0,\"#f0f921\"]]}],\"choropleth\":[{\"type\":\"choropleth\",\"colorbar\":{\"outlinewidth\":0,\"ticks\":\"\"}}],\"histogram2d\":[{\"type\":\"histogram2d\",\"colorbar\":{\"outlinewidth\":0,\"ticks\":\"\"},\"colorscale\":[[0.0,\"#0d0887\"],[0.1111111111111111,\"#46039f\"],[0.2222222222222222,\"#7201a8\"],[0.3333333333333333,\"#9c179e\"],[0.4444444444444444,\"#bd3786\"],[0.5555555555555556,\"#d8576b\"],[0.6666666666666666,\"#ed7953\"],[0.7777777777777778,\"#fb9f3a\"],[0.8888888888888888,\"#fdca26\"],[1.0,\"#f0f921\"]]}],\"heatmap\":[{\"type\":\"heatmap\",\"colorbar\":{\"outlinewidth\":0,\"ticks\":\"\"},\"colorscale\":[[0.0,\"#0d0887\"],[0.1111111111111111,\"#46039f\"],[0.2222222222222222,\"#7201a8\"],[0.3333333333333333,\"#9c179e\"],[0.4444444444444444,\"#bd3786\"],[0.5555555555555556,\"#d8576b\"],[0.6666666666666666,\"#ed7953\"],[0.7777777777777778,\"#fb9f3a\"],[0.8888888888888888,\"#fdca26\"],[1.0,\"#f0f921\"]]}],\"heatmapgl\":[{\"type\":\"heatmapgl\",\"colorbar\":{\"outlinewidth\":0,\"ticks\":\"\"},\"colorscale\":[[0.0,\"#0d0887\"],[0.1111111111111111,\"#46039f\"],[0.2222222222222222,\"#7201a8\"],[0.3333333333333333,\"#9c179e\"],[0.4444444444444444,\"#bd3786\"],[0.5555555555555556,\"#d8576b\"],[0.6666666666666666,\"#ed7953\"],[0.7777777777777778,\"#fb9f3a\"],[0.8888888888888888,\"#fdca26\"],[1.0,\"#f0f921\"]]}],\"contourcarpet\":[{\"type\":\"contourcarpet\",\"colorbar\":{\"outlinewidth\":0,\"ticks\":\"\"}}],\"contour\":[{\"type\":\"contour\",\"colorbar\":{\"outlinewidth\":0,\"ticks\":\"\"},\"colorscale\":[[0.0,\"#0d0887\"],[0.1111111111111111,\"#46039f\"],[0.2222222222222222,\"#7201a8\"],[0.3333333333333333,\"#9c179e\"],[0.4444444444444444,\"#bd3786\"],[0.5555555555555556,\"#d8576b\"],[0.6666666666666666,\"#ed7953\"],[0.7777777777777778,\"#fb9f3a\"],[0.8888888888888888,\"#fdca26\"],[1.0,\"#f0f921\"]]}],\"surface\":[{\"type\":\"surface\",\"colorbar\":{\"outlinewidth\":0,\"ticks\":\"\"},\"colorscale\":[[0.0,\"#0d0887\"],[0.1111111111111111,\"#46039f\"],[0.2222222222222222,\"#7201a8\"],[0.3333333333333333,\"#9c179e\"],[0.4444444444444444,\"#bd3786\"],[0.5555555555555556,\"#d8576b\"],[0.6666666666666666,\"#ed7953\"],[0.7777777777777778,\"#fb9f3a\"],[0.8888888888888888,\"#fdca26\"],[1.0,\"#f0f921\"]]}],\"mesh3d\":[{\"type\":\"mesh3d\",\"colorbar\":{\"outlinewidth\":0,\"ticks\":\"\"}}],\"scatter\":[{\"fillpattern\":{\"fillmode\":\"overlay\",\"size\":10,\"solidity\":0.2},\"type\":\"scatter\"}],\"parcoords\":[{\"type\":\"parcoords\",\"line\":{\"colorbar\":{\"outlinewidth\":0,\"ticks\":\"\"}}}],\"scatterpolargl\":[{\"type\":\"scatterpolargl\",\"marker\":{\"colorbar\":{\"outlinewidth\":0,\"ticks\":\"\"}}}],\"bar\":[{\"error_x\":{\"color\":\"#2a3f5f\"},\"error_y\":{\"color\":\"#2a3f5f\"},\"marker\":{\"line\":{\"color\":\"#E5ECF6\",\"width\":0.5},\"pattern\":{\"fillmode\":\"overlay\",\"size\":10,\"solidity\":0.2}},\"type\":\"bar\"}],\"scattergeo\":[{\"type\":\"scattergeo\",\"marker\":{\"colorbar\":{\"outlinewidth\":0,\"ticks\":\"\"}}}],\"scatterpolar\":[{\"type\":\"scatterpolar\",\"marker\":{\"colorbar\":{\"outlinewidth\":0,\"ticks\":\"\"}}}],\"histogram\":[{\"marker\":{\"pattern\":{\"fillmode\":\"overlay\",\"size\":10,\"solidity\":0.2}},\"type\":\"histogram\"}],\"scattergl\":[{\"type\":\"scattergl\",\"marker\":{\"colorbar\":{\"outlinewidth\":0,\"ticks\":\"\"}}}],\"scatter3d\":[{\"type\":\"scatter3d\",\"line\":{\"colorbar\":{\"outlinewidth\":0,\"ticks\":\"\"}},\"marker\":{\"colorbar\":{\"outlinewidth\":0,\"ticks\":\"\"}}}],\"scattermapbox\":[{\"type\":\"scattermapbox\",\"marker\":{\"colorbar\":{\"outlinewidth\":0,\"ticks\":\"\"}}}],\"scatterternary\":[{\"type\":\"scatterternary\",\"marker\":{\"colorbar\":{\"outlinewidth\":0,\"ticks\":\"\"}}}],\"scattercarpet\":[{\"type\":\"scattercarpet\",\"marker\":{\"colorbar\":{\"outlinewidth\":0,\"ticks\":\"\"}}}],\"carpet\":[{\"aaxis\":{\"endlinecolor\":\"#2a3f5f\",\"gridcolor\":\"white\",\"linecolor\":\"white\",\"minorgridcolor\":\"white\",\"startlinecolor\":\"#2a3f5f\"},\"baxis\":{\"endlinecolor\":\"#2a3f5f\",\"gridcolor\":\"white\",\"linecolor\":\"white\",\"minorgridcolor\":\"white\",\"startlinecolor\":\"#2a3f5f\"},\"type\":\"carpet\"}],\"table\":[{\"cells\":{\"fill\":{\"color\":\"#EBF0F8\"},\"line\":{\"color\":\"white\"}},\"header\":{\"fill\":{\"color\":\"#C8D4E3\"},\"line\":{\"color\":\"white\"}},\"type\":\"table\"}],\"barpolar\":[{\"marker\":{\"line\":{\"color\":\"#E5ECF6\",\"width\":0.5},\"pattern\":{\"fillmode\":\"overlay\",\"size\":10,\"solidity\":0.2}},\"type\":\"barpolar\"}],\"pie\":[{\"automargin\":true,\"type\":\"pie\"}]},\"layout\":{\"autotypenumbers\":\"strict\",\"colorway\":[\"#636efa\",\"#EF553B\",\"#00cc96\",\"#ab63fa\",\"#FFA15A\",\"#19d3f3\",\"#FF6692\",\"#B6E880\",\"#FF97FF\",\"#FECB52\"],\"font\":{\"color\":\"#2a3f5f\"},\"hovermode\":\"closest\",\"hoverlabel\":{\"align\":\"left\"},\"paper_bgcolor\":\"white\",\"plot_bgcolor\":\"#E5ECF6\",\"polar\":{\"bgcolor\":\"#E5ECF6\",\"angularaxis\":{\"gridcolor\":\"white\",\"linecolor\":\"white\",\"ticks\":\"\"},\"radialaxis\":{\"gridcolor\":\"white\",\"linecolor\":\"white\",\"ticks\":\"\"}},\"ternary\":{\"bgcolor\":\"#E5ECF6\",\"aaxis\":{\"gridcolor\":\"white\",\"linecolor\":\"white\",\"ticks\":\"\"},\"baxis\":{\"gridcolor\":\"white\",\"linecolor\":\"white\",\"ticks\":\"\"},\"caxis\":{\"gridcolor\":\"white\",\"linecolor\":\"white\",\"ticks\":\"\"}},\"coloraxis\":{\"colorbar\":{\"outlinewidth\":0,\"ticks\":\"\"}},\"colorscale\":{\"sequential\":[[0.0,\"#0d0887\"],[0.1111111111111111,\"#46039f\"],[0.2222222222222222,\"#7201a8\"],[0.3333333333333333,\"#9c179e\"],[0.4444444444444444,\"#bd3786\"],[0.5555555555555556,\"#d8576b\"],[0.6666666666666666,\"#ed7953\"],[0.7777777777777778,\"#fb9f3a\"],[0.8888888888888888,\"#fdca26\"],[1.0,\"#f0f921\"]],\"sequentialminus\":[[0.0,\"#0d0887\"],[0.1111111111111111,\"#46039f\"],[0.2222222222222222,\"#7201a8\"],[0.3333333333333333,\"#9c179e\"],[0.4444444444444444,\"#bd3786\"],[0.5555555555555556,\"#d8576b\"],[0.6666666666666666,\"#ed7953\"],[0.7777777777777778,\"#fb9f3a\"],[0.8888888888888888,\"#fdca26\"],[1.0,\"#f0f921\"]],\"diverging\":[[0,\"#8e0152\"],[0.1,\"#c51b7d\"],[0.2,\"#de77ae\"],[0.3,\"#f1b6da\"],[0.4,\"#fde0ef\"],[0.5,\"#f7f7f7\"],[0.6,\"#e6f5d0\"],[0.7,\"#b8e186\"],[0.8,\"#7fbc41\"],[0.9,\"#4d9221\"],[1,\"#276419\"]]},\"xaxis\":{\"gridcolor\":\"white\",\"linecolor\":\"white\",\"ticks\":\"\",\"title\":{\"standoff\":15},\"zerolinecolor\":\"white\",\"automargin\":true,\"zerolinewidth\":2},\"yaxis\":{\"gridcolor\":\"white\",\"linecolor\":\"white\",\"ticks\":\"\",\"title\":{\"standoff\":15},\"zerolinecolor\":\"white\",\"automargin\":true,\"zerolinewidth\":2},\"scene\":{\"xaxis\":{\"backgroundcolor\":\"#E5ECF6\",\"gridcolor\":\"white\",\"linecolor\":\"white\",\"showbackground\":true,\"ticks\":\"\",\"zerolinecolor\":\"white\",\"gridwidth\":2},\"yaxis\":{\"backgroundcolor\":\"#E5ECF6\",\"gridcolor\":\"white\",\"linecolor\":\"white\",\"showbackground\":true,\"ticks\":\"\",\"zerolinecolor\":\"white\",\"gridwidth\":2},\"zaxis\":{\"backgroundcolor\":\"#E5ECF6\",\"gridcolor\":\"white\",\"linecolor\":\"white\",\"showbackground\":true,\"ticks\":\"\",\"zerolinecolor\":\"white\",\"gridwidth\":2}},\"shapedefaults\":{\"line\":{\"color\":\"#2a3f5f\"}},\"annotationdefaults\":{\"arrowcolor\":\"#2a3f5f\",\"arrowhead\":0,\"arrowwidth\":1},\"geo\":{\"bgcolor\":\"white\",\"landcolor\":\"#E5ECF6\",\"subunitcolor\":\"white\",\"showland\":true,\"showlakes\":true,\"lakecolor\":\"white\"},\"title\":{\"x\":0.05},\"mapbox\":{\"style\":\"light\"}}},\"xaxis\":{\"anchor\":\"y\",\"domain\":[0.0,1.0],\"title\":{\"text\":\"date\"}},\"yaxis\":{\"anchor\":\"x\",\"domain\":[0.0,1.0],\"title\":{\"text\":\"sum of 7 day rolling death count\"}},\"legend\":{\"tracegroupgap\":0},\"margin\":{\"t\":60},\"barmode\":\"relative\"},                        {\"responsive\": true}                    ).then(function(){\n",
              "                            \n",
              "var gd = document.getElementById('44fa896e-4022-4ad1-9550-4b71ed346b9d');\n",
              "var x = new MutationObserver(function (mutations, observer) {{\n",
              "        var display = window.getComputedStyle(gd).display;\n",
              "        if (!display || display === 'none') {{\n",
              "            console.log([gd, 'removed!']);\n",
              "            Plotly.purge(gd);\n",
              "            observer.disconnect();\n",
              "        }}\n",
              "}});\n",
              "\n",
              "// Listen for the removal of the full notebook cells\n",
              "var notebookContainer = gd.closest('#notebook-container');\n",
              "if (notebookContainer) {{\n",
              "    x.observe(notebookContainer, {childList: true});\n",
              "}}\n",
              "\n",
              "// Listen for the clearing of the current output cell\n",
              "var outputEl = gd.closest('.output');\n",
              "if (outputEl) {{\n",
              "    x.observe(outputEl, {childList: true});\n",
              "}}\n",
              "\n",
              "                        })                };                            </script>        </div>\n",
              "</body>\n",
              "</html>"
            ]
          },
          "metadata": {}
        }
      ]
    },
    {
      "cell_type": "code",
      "source": [
        "plot = pxg.Figure(data=[pxg.Scatter(\n",
        "\tx=df_1['7 day rolling death count'],\n",
        "\ty=df_1['date'],\n",
        "\tmode='markers',)\n",
        "  # color='Location',)\n",
        "])\n",
        "\n",
        "# Add dropdown\n",
        "plot.update_layout(\n",
        "\tupdatemenus=[\n",
        "\t\tdict(\n",
        "\t\t\ttype=\"buttons\",\n",
        "\t\t\tdirection=\"left\",\n",
        "\t\t\tbuttons=list([\n",
        "\t\t\t\tdict(\n",
        "\t\t\t\t\targs=[\"type\", \"scatter\"],\n",
        "\t\t\t\t\tlabel=\"Scatter Plot\",\n",
        "\t\t\t\t\tmethod=\"restyle\"\n",
        "\t\t\t\t),\n",
        "\t\t\t\tdict(\n",
        "\t\t\t\t\targs=[\"type\", \"histogram\"],\n",
        "\t\t\t\t\tlabel=\"Histogram\",\n",
        "\t\t\t\t\tmethod=\"restyle\"\n",
        "\t\t\t\t)\n",
        "\t\t\t]),\n",
        "\t\t),\n",
        "\t]\n",
        ")\n",
        "\n",
        "plot.show()\n"
      ],
      "metadata": {
        "colab": {
          "base_uri": "https://localhost:8080/",
          "height": 542
        },
        "id": "i2x6_akAbKa0",
        "outputId": "2127725a-ba24-40ab-9c0f-6732c6f4522a"
      },
      "execution_count": 35,
      "outputs": [
        {
          "output_type": "display_data",
          "data": {
            "text/html": [
              "<html>\n",
              "<head><meta charset=\"utf-8\" /></head>\n",
              "<body>\n",
              "    <div>            <script src=\"https://cdnjs.cloudflare.com/ajax/libs/mathjax/2.7.5/MathJax.js?config=TeX-AMS-MML_SVG\"></script><script type=\"text/javascript\">if (window.MathJax && window.MathJax.Hub && window.MathJax.Hub.Config) {window.MathJax.Hub.Config({SVG: {font: \"STIX-Web\"}});}</script>                <script type=\"text/javascript\">window.PlotlyConfig = {MathJaxConfig: 'local'};</script>\n",
              "        <script src=\"https://cdn.plot.ly/plotly-2.18.2.min.js\"></script>                <div id=\"f9ec5eea-455d-4513-a3ab-de8562203ece\" class=\"plotly-graph-div\" style=\"height:525px; width:100%;\"></div>            <script type=\"text/javascript\">                                    window.PLOTLYENV=window.PLOTLYENV || {};                                    if (document.getElementById(\"f9ec5eea-455d-4513-a3ab-de8562203ece\")) {                    Plotly.newPlot(                        \"f9ec5eea-455d-4513-a3ab-de8562203ece\",                        [{\"mode\":\"markers\",\"x\":[2,2,2,1,1,0,2,3,4,4,6,5,5,4,2,3,2,2,3,3,3,3,3,1,1,4,3,3,3,2,1,1,2,2,1,3,3,3,3,2,1,1,1,4,4,6,6,6,4,6,5,4,10,5,2,5,3,2,3,3,1,2,1,1,1,2,2,2,0,0,0,0,0,0,0,1,2,2,3,3,2,3,4,5,5,5,5,7,6,3,4,8,11,13,14,12,7,8,10,6,6,4,2,2,3,1,1,3,2,3,6,10,11,13,17,19,16,8,5,5,8,11,13,13,11,10,8,9,8,7,8,7,7,3,6,7,8,1,0,2,2,3,4,4,4,3,3,3,2,5,4,4,4,5,4,3,3,2,2,1,3,3,3,3,3,3,4,5,8,8,9,4,5,4,5,5,5,12,10,3,5,1,2,1,2,2,0,0,0,0,0,3,3,2,2,5,4,5,3,2,3,4,5,4,5,5,4,4,6,7,13,13,9,5,8,10,6,8,3,1,4,1,7,13,10,10,11,12,12,13,11,10,8,7,7,7,3,3,2,4,6,7,8,7,1,9,5,5,3,4,9,7,7,7,10,11,17,20,10,8,8,7,6,6,2,2,2,4,5,3,3,4,4,1,1,0,0,0,1,5,3,1,1,0,1,2,3,1,1,1,0,0,1,2,2,0,0,0,0,1,3,3,3,3,1,1,2,3,2,2,3,5,6,8,8,8,8,8,10,11,11,11,13,14,14,18,28,29,29,40,53,54,50,51,42,37,41,37,41,33,30,21,27,26,24,2,3,3,3,1,1,3,4,3,3,1,2,1,3,5,5,5,5,5,3,3,3,2,2,3,3,2,3,2,2,2,1,1,3,8,8,8,5,5,8,8,10,10,6,4,4,5,6,6,2,2,3,3,3,4,3,2,0,2,2,0,0,0,0,2,2,2,5,4,6,6,6,3,2,7,7,14,16,10,8,8,9,8,9,6,3,3,3,4,4,2,6,15,15,17,6,6,12,11,9,7,9,4,4,5,7,8,7,8,6,4,5,7,6,8,7,6,4,2,5,7,6,7,5,4,5,7,6,7,7,10,10,11,14,19,9,6,8,6,3,3,3,1,2,0,0,1,3,4,6,6,4,1,1,0,0,2,2,1,1,1,1,1,1,0,0,0,0,1,2,3,3,0,0,0,0,0,0,3,3,1,2,2,3,2,4,5,4,7,7,7,7,9,12,12,12,13,13,13,20,35,35,38,41,50,50,43,38,40,45,41,35,25,26,7,6,5,5,7,7,7,8,7,5,3,3,3,8,8,8,5,7,4,4,5,5,5,3,9,10,14,15,16,12,9,9,8,7,7,6,2,2,2,2,1,3,3,4,5,5,2,3,4,4,0,6,5,1,0,2,3,2,2,0,0,0,3,3,1,0,0,0,0,0,1,3,1,2,2,2,2,1,3,2,2,7,7,11,11,12,14,13,14,27,28,28,28,29,32,35,38,42,49,52,54,55,47,44,35,39,25,24,25],\"y\":[\"2022-11-29\",\"2022-11-28\",\"2022-11-27\",\"2022-11-22\",\"2022-11-21\",\"2022-11-18\",\"2022-11-14\",\"2022-11-12\",\"2022-11-11\",\"2022-11-08\",\"2022-11-07\",\"2022-11-06\",\"2022-11-05\",\"2022-11-04\",\"2022-10-31\",\"2022-10-29\",\"2022-10-20\",\"2022-10-19\",\"2022-10-18\",\"2022-10-13\",\"2022-10-01\",\"2022-09-29\",\"2022-09-26\",\"2022-09-25\",\"2022-09-24\",\"2022-09-20\",\"2022-09-18\",\"2022-09-17\",\"2022-09-15\",\"2022-09-14\",\"2022-09-12\",\"2022-09-11\",\"2022-09-07\",\"2022-09-06\",\"2022-09-03\",\"2022-09-01\",\"2022-08-30\",\"2022-08-29\",\"2022-08-27\",\"2022-08-23\",\"2022-08-22\",\"2022-08-21\",\"2022-08-19\",\"2022-08-15\",\"2022-08-14\",\"2022-08-13\",\"2022-08-10\",\"2022-08-03\",\"2022-07-30\",\"2022-07-28\",\"2022-07-27\",\"2022-07-26\",\"2022-07-17\",\"2022-07-14\",\"2022-07-12\",\"2022-07-10\",\"2022-07-04\",\"2022-07-01\",\"2022-06-28\",\"2022-06-26\",\"2022-06-22\",\"2022-06-21\",\"2022-06-17\",\"2022-06-16\",\"2022-06-15\",\"2022-06-13\",\"2022-06-12\",\"2022-06-08\",\"2022-06-05\",\"2022-05-31\",\"2022-05-30\",\"2022-05-27\",\"2022-05-26\",\"2022-05-24\",\"2022-05-23\",\"2022-05-21\",\"2022-05-19\",\"2022-05-18\",\"2022-05-17\",\"2022-05-16\",\"2022-05-13\",\"2022-05-08\",\"2022-05-07\",\"2022-05-06\",\"2022-04-26\",\"2022-04-24\",\"2022-04-21\",\"2022-04-19\",\"2022-04-17\",\"2022-04-11\",\"2022-04-10\",\"2022-04-04\",\"2022-04-03\",\"2022-03-30\",\"2022-03-28\",\"2022-03-27\",\"2022-03-21\",\"2022-03-19\",\"2022-03-15\",\"2022-03-11\",\"2022-03-09\",\"2022-03-08\",\"2022-03-07\",\"2022-03-06\",\"2022-03-05\",\"2022-03-03\",\"2022-03-02\",\"2022-02-25\",\"2022-02-19\",\"2022-02-18\",\"2022-02-16\",\"2022-02-14\",\"2022-02-13\",\"2022-02-12\",\"2022-02-09\",\"2022-02-08\",\"2022-02-06\",\"2022-02-03\",\"2022-02-01\",\"2022-01-31\",\"2022-01-29\",\"2022-01-26\",\"2022-01-23\",\"2022-01-22\",\"2022-01-20\",\"2022-01-16\",\"2022-01-14\",\"2022-01-12\",\"2022-01-11\",\"2022-01-09\",\"2022-01-06\",\"2022-01-05\",\"2022-01-01\",\"2021-11-26\",\"2021-11-22\",\"2021-11-19\",\"2021-11-18\",\"2022-11-20\",\"2022-11-19\",\"2022-11-16\",\"2022-11-15\",\"2022-11-13\",\"2022-11-10\",\"2022-11-09\",\"2022-11-03\",\"2022-11-02\",\"2022-11-01\",\"2022-10-26\",\"2022-10-24\",\"2022-10-16\",\"2022-10-15\",\"2022-10-14\",\"2022-10-12\",\"2022-10-11\",\"2022-10-05\",\"2022-09-30\",\"2022-09-28\",\"2022-09-23\",\"2022-09-16\",\"2022-09-13\",\"2022-09-10\",\"2022-09-09\",\"2022-09-05\",\"2022-09-04\",\"2022-09-02\",\"2022-08-28\",\"2022-08-16\",\"2022-08-12\",\"2022-08-09\",\"2022-08-08\",\"2022-08-07\",\"2022-08-02\",\"2022-08-01\",\"2022-07-31\",\"2022-07-29\",\"2022-07-25\",\"2022-07-24\",\"2022-07-19\",\"2022-07-16\",\"2022-07-13\",\"2022-07-05\",\"2022-06-23\",\"2022-06-20\",\"2022-06-18\",\"2022-06-09\",\"2022-06-07\",\"2022-06-04\",\"2022-06-02\",\"2022-05-28\",\"2022-05-25\",\"2022-05-22\",\"2022-05-15\",\"2022-05-14\",\"2022-05-11\",\"2022-05-10\",\"2022-05-04\",\"2022-05-03\",\"2022-05-02\",\"2022-04-30\",\"2022-04-29\",\"2022-04-28\",\"2022-04-27\",\"2022-04-25\",\"2022-04-23\",\"2022-04-22\",\"2022-04-15\",\"2022-04-14\",\"2022-04-09\",\"2022-04-08\",\"2022-04-05\",\"2022-04-01\",\"2022-03-31\",\"2022-03-25\",\"2022-03-22\",\"2022-03-18\",\"2022-03-14\",\"2022-03-13\",\"2022-03-10\",\"2022-03-04\",\"2022-03-01\",\"2022-02-27\",\"2022-02-20\",\"2022-02-15\",\"2022-02-05\",\"2022-02-04\",\"2022-01-28\",\"2022-01-27\",\"2022-01-25\",\"2022-01-24\",\"2022-01-21\",\"2022-01-17\",\"2022-01-15\",\"2022-01-10\",\"2022-01-07\",\"2022-01-04\",\"2022-01-03\",\"2021-11-30\",\"2021-11-28\",\"2021-11-27\",\"2021-11-25\",\"2021-11-21\",\"2021-11-20\",\"2021-11-05\",\"2021-10-30\",\"2021-10-21\",\"2021-10-14\",\"2021-10-08\",\"2021-10-07\",\"2021-10-04\",\"2021-10-02\",\"2021-09-26\",\"2021-09-22\",\"2021-09-21\",\"2021-09-18\",\"2021-09-14\",\"2021-09-12\",\"2021-09-07\",\"2021-09-05\",\"2021-09-02\",\"2021-08-28\",\"2021-08-26\",\"2021-08-25\",\"2021-08-21\",\"2021-08-20\",\"2021-08-13\",\"2021-08-12\",\"2021-08-11\",\"2021-08-04\",\"2021-08-01\",\"2021-07-28\",\"2021-07-26\",\"2021-07-24\",\"2021-07-22\",\"2021-07-20\",\"2021-07-19\",\"2021-07-18\",\"2021-07-17\",\"2021-07-15\",\"2021-07-11\",\"2021-07-05\",\"2021-07-02\",\"2021-06-30\",\"2021-06-27\",\"2021-06-26\",\"2021-06-22\",\"2021-06-21\",\"2021-06-16\",\"2021-06-14\",\"2021-06-08\",\"2021-06-05\",\"2021-06-02\",\"2021-05-27\",\"2021-05-26\",\"2021-05-19\",\"2021-05-18\",\"2021-05-15\",\"2021-05-13\",\"2021-05-05\",\"2021-05-04\",\"2021-04-30\",\"2021-04-28\",\"2021-04-27\",\"2021-04-26\",\"2021-04-23\",\"2021-04-21\",\"2021-04-17\",\"2021-04-16\",\"2021-04-13\",\"2021-04-12\",\"2021-04-11\",\"2021-04-05\",\"2021-03-30\",\"2021-03-28\",\"2021-03-26\",\"2021-03-24\",\"2021-03-23\",\"2021-03-18\",\"2021-03-17\",\"2021-03-15\",\"2021-03-12\",\"2021-03-09\",\"2021-03-07\",\"2021-03-05\",\"2021-03-04\",\"2021-02-26\",\"2021-02-24\",\"2021-02-20\",\"2021-02-17\",\"2021-02-16\",\"2021-02-07\",\"2021-02-01\",\"2021-01-31\",\"2021-01-27\",\"2021-01-26\",\"2021-01-24\",\"2021-01-23\",\"2021-01-22\",\"2021-01-20\",\"2021-01-15\",\"2021-01-11\",\"2021-01-10\",\"2021-01-07\",\"2021-01-05\",\"2021-01-04\",\"2021-01-01\",\"2022-11-30\",\"2022-11-26\",\"2022-11-25\",\"2022-11-24\",\"2022-11-23\",\"2022-11-17\",\"2022-10-30\",\"2022-10-28\",\"2022-10-27\",\"2022-10-25\",\"2022-10-23\",\"2022-10-22\",\"2022-10-21\",\"2022-10-17\",\"2022-10-10\",\"2022-10-09\",\"2022-10-08\",\"2022-10-07\",\"2022-10-06\",\"2022-10-04\",\"2022-10-03\",\"2022-10-02\",\"2022-09-27\",\"2022-09-22\",\"2022-09-21\",\"2022-09-19\",\"2022-09-08\",\"2022-08-31\",\"2022-08-26\",\"2022-08-25\",\"2022-08-24\",\"2022-08-20\",\"2022-08-18\",\"2022-08-17\",\"2022-08-11\",\"2022-08-06\",\"2022-08-05\",\"2022-08-04\",\"2022-07-23\",\"2022-07-22\",\"2022-07-21\",\"2022-07-20\",\"2022-07-18\",\"2022-07-15\",\"2022-07-11\",\"2022-07-09\",\"2022-07-08\",\"2022-07-07\",\"2022-07-06\",\"2022-07-03\",\"2022-07-02\",\"2022-06-30\",\"2022-06-29\",\"2022-06-27\",\"2022-06-25\",\"2022-06-24\",\"2022-06-19\",\"2022-06-14\",\"2022-06-11\",\"2022-06-10\",\"2022-06-06\",\"2022-06-03\",\"2022-06-01\",\"2022-05-29\",\"2022-05-20\",\"2022-05-12\",\"2022-05-09\",\"2022-05-05\",\"2022-05-01\",\"2022-04-20\",\"2022-04-18\",\"2022-04-16\",\"2022-04-13\",\"2022-04-12\",\"2022-04-07\",\"2022-04-06\",\"2022-04-02\",\"2022-03-29\",\"2022-03-26\",\"2022-03-24\",\"2022-03-23\",\"2022-03-20\",\"2022-03-17\",\"2022-03-16\",\"2022-03-12\",\"2022-02-28\",\"2022-02-26\",\"2022-02-24\",\"2022-02-23\",\"2022-02-22\",\"2022-02-21\",\"2022-02-17\",\"2022-02-11\",\"2022-02-10\",\"2022-02-07\",\"2022-02-02\",\"2022-01-30\",\"2022-01-19\",\"2022-01-18\",\"2022-01-13\",\"2022-01-08\",\"2022-01-02\",\"2021-11-29\",\"2021-11-24\",\"2021-11-23\",\"2021-11-17\",\"2021-11-16\",\"2021-11-15\",\"2021-11-14\",\"2021-11-10\",\"2021-11-08\",\"2021-11-07\",\"2021-11-04\",\"2021-10-29\",\"2021-10-28\",\"2021-10-27\",\"2021-10-26\",\"2021-10-24\",\"2021-10-20\",\"2021-10-18\",\"2021-10-17\",\"2021-10-16\",\"2021-10-11\",\"2021-10-06\",\"2021-09-30\",\"2021-09-27\",\"2021-09-25\",\"2021-09-24\",\"2021-09-23\",\"2021-09-20\",\"2021-09-16\",\"2021-09-15\",\"2021-09-11\",\"2021-09-09\",\"2021-09-06\",\"2021-08-31\",\"2021-08-29\",\"2021-08-24\",\"2021-08-18\",\"2021-08-17\",\"2021-08-15\",\"2021-07-31\",\"2021-07-29\",\"2021-07-21\",\"2021-07-16\",\"2021-07-14\",\"2021-07-12\",\"2021-07-10\",\"2021-07-09\",\"2021-07-07\",\"2021-07-06\",\"2021-07-03\",\"2021-06-29\",\"2021-06-28\",\"2021-06-24\",\"2021-06-23\",\"2021-06-19\",\"2021-06-18\",\"2021-06-13\",\"2021-06-12\",\"2021-06-10\",\"2021-06-09\",\"2021-06-07\",\"2021-06-06\",\"2021-06-03\",\"2021-05-30\",\"2021-05-29\",\"2021-05-28\",\"2021-05-25\",\"2021-05-24\",\"2021-05-23\",\"2021-05-21\",\"2021-05-16\",\"2021-05-12\",\"2021-05-11\",\"2021-05-08\",\"2021-05-06\",\"2021-05-02\",\"2021-04-25\",\"2021-04-24\",\"2021-04-20\",\"2021-04-18\",\"2021-04-14\",\"2021-04-10\",\"2021-04-08\",\"2021-04-01\",\"2021-03-31\",\"2021-03-29\",\"2021-03-27\",\"2021-03-22\",\"2021-03-20\",\"2021-03-19\",\"2021-03-16\",\"2021-03-11\",\"2021-03-10\",\"2021-03-08\",\"2021-03-03\",\"2021-02-28\",\"2021-02-27\",\"2021-02-23\",\"2021-02-13\",\"2021-02-12\",\"2021-02-11\",\"2021-02-08\",\"2021-02-05\",\"2021-01-29\",\"2021-01-21\",\"2021-01-18\",\"2021-01-17\",\"2021-01-16\",\"2021-01-14\",\"2021-01-12\",\"2021-01-03\",\"2021-01-02\",\"2021-11-13\",\"2021-11-12\",\"2021-11-11\",\"2021-11-09\",\"2021-11-06\",\"2021-11-03\",\"2021-11-02\",\"2021-11-01\",\"2021-10-31\",\"2021-10-25\",\"2021-10-23\",\"2021-10-22\",\"2021-10-19\",\"2021-10-15\",\"2021-10-13\",\"2021-10-12\",\"2021-10-10\",\"2021-10-09\",\"2021-10-05\",\"2021-10-03\",\"2021-10-01\",\"2021-09-29\",\"2021-09-28\",\"2021-09-19\",\"2021-09-17\",\"2021-09-13\",\"2021-09-10\",\"2021-09-08\",\"2021-09-04\",\"2021-09-03\",\"2021-09-01\",\"2021-08-30\",\"2021-08-27\",\"2021-08-23\",\"2021-08-22\",\"2021-08-19\",\"2021-08-16\",\"2021-08-14\",\"2021-08-10\",\"2021-08-09\",\"2021-08-08\",\"2021-08-07\",\"2021-08-06\",\"2021-08-05\",\"2021-08-03\",\"2021-08-02\",\"2021-07-30\",\"2021-07-27\",\"2021-07-25\",\"2021-07-23\",\"2021-07-13\",\"2021-07-08\",\"2021-07-04\",\"2021-07-01\",\"2021-06-25\",\"2021-06-20\",\"2021-06-17\",\"2021-06-15\",\"2021-06-11\",\"2021-06-04\",\"2021-06-01\",\"2021-05-31\",\"2021-05-22\",\"2021-05-20\",\"2021-05-17\",\"2021-05-14\",\"2021-05-10\",\"2021-05-09\",\"2021-05-07\",\"2021-05-03\",\"2021-05-01\",\"2021-04-29\",\"2021-04-22\",\"2021-04-19\",\"2021-04-15\",\"2021-04-09\",\"2021-04-07\",\"2021-04-06\",\"2021-04-04\",\"2021-04-03\",\"2021-04-02\",\"2021-03-25\",\"2021-03-21\",\"2021-03-14\",\"2021-03-13\",\"2021-03-06\",\"2021-03-02\",\"2021-03-01\",\"2021-02-25\",\"2021-02-22\",\"2021-02-21\",\"2021-02-19\",\"2021-02-18\",\"2021-02-15\",\"2021-02-14\",\"2021-02-10\",\"2021-02-09\",\"2021-02-06\",\"2021-02-04\",\"2021-02-03\",\"2021-02-02\",\"2021-01-30\",\"2021-01-28\",\"2021-01-25\",\"2021-01-19\",\"2021-01-13\",\"2021-01-09\",\"2021-01-08\",\"2021-01-06\"],\"type\":\"scatter\"}],                        {\"template\":{\"data\":{\"histogram2dcontour\":[{\"type\":\"histogram2dcontour\",\"colorbar\":{\"outlinewidth\":0,\"ticks\":\"\"},\"colorscale\":[[0.0,\"#0d0887\"],[0.1111111111111111,\"#46039f\"],[0.2222222222222222,\"#7201a8\"],[0.3333333333333333,\"#9c179e\"],[0.4444444444444444,\"#bd3786\"],[0.5555555555555556,\"#d8576b\"],[0.6666666666666666,\"#ed7953\"],[0.7777777777777778,\"#fb9f3a\"],[0.8888888888888888,\"#fdca26\"],[1.0,\"#f0f921\"]]}],\"choropleth\":[{\"type\":\"choropleth\",\"colorbar\":{\"outlinewidth\":0,\"ticks\":\"\"}}],\"histogram2d\":[{\"type\":\"histogram2d\",\"colorbar\":{\"outlinewidth\":0,\"ticks\":\"\"},\"colorscale\":[[0.0,\"#0d0887\"],[0.1111111111111111,\"#46039f\"],[0.2222222222222222,\"#7201a8\"],[0.3333333333333333,\"#9c179e\"],[0.4444444444444444,\"#bd3786\"],[0.5555555555555556,\"#d8576b\"],[0.6666666666666666,\"#ed7953\"],[0.7777777777777778,\"#fb9f3a\"],[0.8888888888888888,\"#fdca26\"],[1.0,\"#f0f921\"]]}],\"heatmap\":[{\"type\":\"heatmap\",\"colorbar\":{\"outlinewidth\":0,\"ticks\":\"\"},\"colorscale\":[[0.0,\"#0d0887\"],[0.1111111111111111,\"#46039f\"],[0.2222222222222222,\"#7201a8\"],[0.3333333333333333,\"#9c179e\"],[0.4444444444444444,\"#bd3786\"],[0.5555555555555556,\"#d8576b\"],[0.6666666666666666,\"#ed7953\"],[0.7777777777777778,\"#fb9f3a\"],[0.8888888888888888,\"#fdca26\"],[1.0,\"#f0f921\"]]}],\"heatmapgl\":[{\"type\":\"heatmapgl\",\"colorbar\":{\"outlinewidth\":0,\"ticks\":\"\"},\"colorscale\":[[0.0,\"#0d0887\"],[0.1111111111111111,\"#46039f\"],[0.2222222222222222,\"#7201a8\"],[0.3333333333333333,\"#9c179e\"],[0.4444444444444444,\"#bd3786\"],[0.5555555555555556,\"#d8576b\"],[0.6666666666666666,\"#ed7953\"],[0.7777777777777778,\"#fb9f3a\"],[0.8888888888888888,\"#fdca26\"],[1.0,\"#f0f921\"]]}],\"contourcarpet\":[{\"type\":\"contourcarpet\",\"colorbar\":{\"outlinewidth\":0,\"ticks\":\"\"}}],\"contour\":[{\"type\":\"contour\",\"colorbar\":{\"outlinewidth\":0,\"ticks\":\"\"},\"colorscale\":[[0.0,\"#0d0887\"],[0.1111111111111111,\"#46039f\"],[0.2222222222222222,\"#7201a8\"],[0.3333333333333333,\"#9c179e\"],[0.4444444444444444,\"#bd3786\"],[0.5555555555555556,\"#d8576b\"],[0.6666666666666666,\"#ed7953\"],[0.7777777777777778,\"#fb9f3a\"],[0.8888888888888888,\"#fdca26\"],[1.0,\"#f0f921\"]]}],\"surface\":[{\"type\":\"surface\",\"colorbar\":{\"outlinewidth\":0,\"ticks\":\"\"},\"colorscale\":[[0.0,\"#0d0887\"],[0.1111111111111111,\"#46039f\"],[0.2222222222222222,\"#7201a8\"],[0.3333333333333333,\"#9c179e\"],[0.4444444444444444,\"#bd3786\"],[0.5555555555555556,\"#d8576b\"],[0.6666666666666666,\"#ed7953\"],[0.7777777777777778,\"#fb9f3a\"],[0.8888888888888888,\"#fdca26\"],[1.0,\"#f0f921\"]]}],\"mesh3d\":[{\"type\":\"mesh3d\",\"colorbar\":{\"outlinewidth\":0,\"ticks\":\"\"}}],\"scatter\":[{\"fillpattern\":{\"fillmode\":\"overlay\",\"size\":10,\"solidity\":0.2},\"type\":\"scatter\"}],\"parcoords\":[{\"type\":\"parcoords\",\"line\":{\"colorbar\":{\"outlinewidth\":0,\"ticks\":\"\"}}}],\"scatterpolargl\":[{\"type\":\"scatterpolargl\",\"marker\":{\"colorbar\":{\"outlinewidth\":0,\"ticks\":\"\"}}}],\"bar\":[{\"error_x\":{\"color\":\"#2a3f5f\"},\"error_y\":{\"color\":\"#2a3f5f\"},\"marker\":{\"line\":{\"color\":\"#E5ECF6\",\"width\":0.5},\"pattern\":{\"fillmode\":\"overlay\",\"size\":10,\"solidity\":0.2}},\"type\":\"bar\"}],\"scattergeo\":[{\"type\":\"scattergeo\",\"marker\":{\"colorbar\":{\"outlinewidth\":0,\"ticks\":\"\"}}}],\"scatterpolar\":[{\"type\":\"scatterpolar\",\"marker\":{\"colorbar\":{\"outlinewidth\":0,\"ticks\":\"\"}}}],\"histogram\":[{\"marker\":{\"pattern\":{\"fillmode\":\"overlay\",\"size\":10,\"solidity\":0.2}},\"type\":\"histogram\"}],\"scattergl\":[{\"type\":\"scattergl\",\"marker\":{\"colorbar\":{\"outlinewidth\":0,\"ticks\":\"\"}}}],\"scatter3d\":[{\"type\":\"scatter3d\",\"line\":{\"colorbar\":{\"outlinewidth\":0,\"ticks\":\"\"}},\"marker\":{\"colorbar\":{\"outlinewidth\":0,\"ticks\":\"\"}}}],\"scattermapbox\":[{\"type\":\"scattermapbox\",\"marker\":{\"colorbar\":{\"outlinewidth\":0,\"ticks\":\"\"}}}],\"scatterternary\":[{\"type\":\"scatterternary\",\"marker\":{\"colorbar\":{\"outlinewidth\":0,\"ticks\":\"\"}}}],\"scattercarpet\":[{\"type\":\"scattercarpet\",\"marker\":{\"colorbar\":{\"outlinewidth\":0,\"ticks\":\"\"}}}],\"carpet\":[{\"aaxis\":{\"endlinecolor\":\"#2a3f5f\",\"gridcolor\":\"white\",\"linecolor\":\"white\",\"minorgridcolor\":\"white\",\"startlinecolor\":\"#2a3f5f\"},\"baxis\":{\"endlinecolor\":\"#2a3f5f\",\"gridcolor\":\"white\",\"linecolor\":\"white\",\"minorgridcolor\":\"white\",\"startlinecolor\":\"#2a3f5f\"},\"type\":\"carpet\"}],\"table\":[{\"cells\":{\"fill\":{\"color\":\"#EBF0F8\"},\"line\":{\"color\":\"white\"}},\"header\":{\"fill\":{\"color\":\"#C8D4E3\"},\"line\":{\"color\":\"white\"}},\"type\":\"table\"}],\"barpolar\":[{\"marker\":{\"line\":{\"color\":\"#E5ECF6\",\"width\":0.5},\"pattern\":{\"fillmode\":\"overlay\",\"size\":10,\"solidity\":0.2}},\"type\":\"barpolar\"}],\"pie\":[{\"automargin\":true,\"type\":\"pie\"}]},\"layout\":{\"autotypenumbers\":\"strict\",\"colorway\":[\"#636efa\",\"#EF553B\",\"#00cc96\",\"#ab63fa\",\"#FFA15A\",\"#19d3f3\",\"#FF6692\",\"#B6E880\",\"#FF97FF\",\"#FECB52\"],\"font\":{\"color\":\"#2a3f5f\"},\"hovermode\":\"closest\",\"hoverlabel\":{\"align\":\"left\"},\"paper_bgcolor\":\"white\",\"plot_bgcolor\":\"#E5ECF6\",\"polar\":{\"bgcolor\":\"#E5ECF6\",\"angularaxis\":{\"gridcolor\":\"white\",\"linecolor\":\"white\",\"ticks\":\"\"},\"radialaxis\":{\"gridcolor\":\"white\",\"linecolor\":\"white\",\"ticks\":\"\"}},\"ternary\":{\"bgcolor\":\"#E5ECF6\",\"aaxis\":{\"gridcolor\":\"white\",\"linecolor\":\"white\",\"ticks\":\"\"},\"baxis\":{\"gridcolor\":\"white\",\"linecolor\":\"white\",\"ticks\":\"\"},\"caxis\":{\"gridcolor\":\"white\",\"linecolor\":\"white\",\"ticks\":\"\"}},\"coloraxis\":{\"colorbar\":{\"outlinewidth\":0,\"ticks\":\"\"}},\"colorscale\":{\"sequential\":[[0.0,\"#0d0887\"],[0.1111111111111111,\"#46039f\"],[0.2222222222222222,\"#7201a8\"],[0.3333333333333333,\"#9c179e\"],[0.4444444444444444,\"#bd3786\"],[0.5555555555555556,\"#d8576b\"],[0.6666666666666666,\"#ed7953\"],[0.7777777777777778,\"#fb9f3a\"],[0.8888888888888888,\"#fdca26\"],[1.0,\"#f0f921\"]],\"sequentialminus\":[[0.0,\"#0d0887\"],[0.1111111111111111,\"#46039f\"],[0.2222222222222222,\"#7201a8\"],[0.3333333333333333,\"#9c179e\"],[0.4444444444444444,\"#bd3786\"],[0.5555555555555556,\"#d8576b\"],[0.6666666666666666,\"#ed7953\"],[0.7777777777777778,\"#fb9f3a\"],[0.8888888888888888,\"#fdca26\"],[1.0,\"#f0f921\"]],\"diverging\":[[0,\"#8e0152\"],[0.1,\"#c51b7d\"],[0.2,\"#de77ae\"],[0.3,\"#f1b6da\"],[0.4,\"#fde0ef\"],[0.5,\"#f7f7f7\"],[0.6,\"#e6f5d0\"],[0.7,\"#b8e186\"],[0.8,\"#7fbc41\"],[0.9,\"#4d9221\"],[1,\"#276419\"]]},\"xaxis\":{\"gridcolor\":\"white\",\"linecolor\":\"white\",\"ticks\":\"\",\"title\":{\"standoff\":15},\"zerolinecolor\":\"white\",\"automargin\":true,\"zerolinewidth\":2},\"yaxis\":{\"gridcolor\":\"white\",\"linecolor\":\"white\",\"ticks\":\"\",\"title\":{\"standoff\":15},\"zerolinecolor\":\"white\",\"automargin\":true,\"zerolinewidth\":2},\"scene\":{\"xaxis\":{\"backgroundcolor\":\"#E5ECF6\",\"gridcolor\":\"white\",\"linecolor\":\"white\",\"showbackground\":true,\"ticks\":\"\",\"zerolinecolor\":\"white\",\"gridwidth\":2},\"yaxis\":{\"backgroundcolor\":\"#E5ECF6\",\"gridcolor\":\"white\",\"linecolor\":\"white\",\"showbackground\":true,\"ticks\":\"\",\"zerolinecolor\":\"white\",\"gridwidth\":2},\"zaxis\":{\"backgroundcolor\":\"#E5ECF6\",\"gridcolor\":\"white\",\"linecolor\":\"white\",\"showbackground\":true,\"ticks\":\"\",\"zerolinecolor\":\"white\",\"gridwidth\":2}},\"shapedefaults\":{\"line\":{\"color\":\"#2a3f5f\"}},\"annotationdefaults\":{\"arrowcolor\":\"#2a3f5f\",\"arrowhead\":0,\"arrowwidth\":1},\"geo\":{\"bgcolor\":\"white\",\"landcolor\":\"#E5ECF6\",\"subunitcolor\":\"white\",\"showland\":true,\"showlakes\":true,\"lakecolor\":\"white\"},\"title\":{\"x\":0.05},\"mapbox\":{\"style\":\"light\"}}},\"updatemenus\":[{\"buttons\":[{\"args\":[\"type\",\"scatter\"],\"label\":\"Scatter Plot\",\"method\":\"restyle\"},{\"args\":[\"type\",\"histogram\"],\"label\":\"Histogram\",\"method\":\"restyle\"}],\"direction\":\"left\",\"type\":\"buttons\"}]},                        {\"responsive\": true}                    ).then(function(){\n",
              "                            \n",
              "var gd = document.getElementById('f9ec5eea-455d-4513-a3ab-de8562203ece');\n",
              "var x = new MutationObserver(function (mutations, observer) {{\n",
              "        var display = window.getComputedStyle(gd).display;\n",
              "        if (!display || display === 'none') {{\n",
              "            console.log([gd, 'removed!']);\n",
              "            Plotly.purge(gd);\n",
              "            observer.disconnect();\n",
              "        }}\n",
              "}});\n",
              "\n",
              "// Listen for the removal of the full notebook cells\n",
              "var notebookContainer = gd.closest('#notebook-container');\n",
              "if (notebookContainer) {{\n",
              "    x.observe(notebookContainer, {childList: true});\n",
              "}}\n",
              "\n",
              "// Listen for the clearing of the current output cell\n",
              "var outputEl = gd.closest('.output');\n",
              "if (outputEl) {{\n",
              "    x.observe(outputEl, {childList: true});\n",
              "}}\n",
              "\n",
              "                        })                };                            </script>        </div>\n",
              "</body>\n",
              "</html>"
            ]
          },
          "metadata": {}
        }
      ]
    }
  ]
}