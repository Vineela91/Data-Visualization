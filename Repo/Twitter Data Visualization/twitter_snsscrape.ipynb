{
  "nbformat": 4,
  "nbformat_minor": 0,
  "metadata": {
    "colab": {
      "provenance": []
    },
    "kernelspec": {
      "name": "python3",
      "display_name": "Python 3"
    },
    "language_info": {
      "name": "python"
    }
  },
  "cells": [
    {
      "cell_type": "code",
      "execution_count": null,
      "metadata": {
        "colab": {
          "base_uri": "https://localhost:8080/"
        },
        "id": "YO_B5imeHawn",
        "outputId": "ab385c41-c823-401b-c9aa-1fb0142fe687",
        "collapsed": true
      },
      "outputs": [
        {
          "output_type": "stream",
          "name": "stdout",
          "text": [
            "Looking in indexes: https://pypi.org/simple, https://us-python.pkg.dev/colab-wheels/public/simple/\n",
            "Collecting snscrape\n",
            "  Downloading snscrape-0.6.2.20230320-py3-none-any.whl (71 kB)\n",
            "\u001b[2K     \u001b[90m━━━━━━━━━━━━━━━━━━━━━━━━━━━━━━━━━━━━━━━━\u001b[0m \u001b[32m71.8/71.8 kB\u001b[0m \u001b[31m3.0 MB/s\u001b[0m eta \u001b[36m0:00:00\u001b[0m\n",
            "\u001b[?25hRequirement already satisfied: filelock in /usr/local/lib/python3.9/dist-packages (from snscrape) (3.11.0)\n",
            "Requirement already satisfied: lxml in /usr/local/lib/python3.9/dist-packages (from snscrape) (4.9.2)\n",
            "Requirement already satisfied: beautifulsoup4 in /usr/local/lib/python3.9/dist-packages (from snscrape) (4.11.2)\n",
            "Requirement already satisfied: requests[socks] in /usr/local/lib/python3.9/dist-packages (from snscrape) (2.27.1)\n",
            "Requirement already satisfied: soupsieve>1.2 in /usr/local/lib/python3.9/dist-packages (from beautifulsoup4->snscrape) (2.4)\n",
            "Requirement already satisfied: urllib3<1.27,>=1.21.1 in /usr/local/lib/python3.9/dist-packages (from requests[socks]->snscrape) (1.26.15)\n",
            "Requirement already satisfied: certifi>=2017.4.17 in /usr/local/lib/python3.9/dist-packages (from requests[socks]->snscrape) (2022.12.7)\n",
            "Requirement already satisfied: idna<4,>=2.5 in /usr/local/lib/python3.9/dist-packages (from requests[socks]->snscrape) (3.4)\n",
            "Requirement already satisfied: charset-normalizer~=2.0.0 in /usr/local/lib/python3.9/dist-packages (from requests[socks]->snscrape) (2.0.12)\n",
            "Requirement already satisfied: PySocks!=1.5.7,>=1.5.6 in /usr/local/lib/python3.9/dist-packages (from requests[socks]->snscrape) (1.7.1)\n",
            "Installing collected packages: snscrape\n",
            "Successfully installed snscrape-0.6.2.20230320\n",
            "Looking in indexes: https://pypi.org/simple, https://us-python.pkg.dev/colab-wheels/public/simple/\n",
            "Collecting langdetect\n",
            "  Downloading langdetect-1.0.9.tar.gz (981 kB)\n",
            "\u001b[2K     \u001b[90m━━━━━━━━━━━━━━━━━━━━━━━━━━━━━━━━━━━━━━━\u001b[0m \u001b[32m981.5/981.5 kB\u001b[0m \u001b[31m7.0 MB/s\u001b[0m eta \u001b[36m0:00:00\u001b[0m\n",
            "\u001b[?25h  Preparing metadata (setup.py) ... \u001b[?25l\u001b[?25hdone\n",
            "Requirement already satisfied: six in /usr/local/lib/python3.9/dist-packages (from langdetect) (1.16.0)\n",
            "Building wheels for collected packages: langdetect\n",
            "  Building wheel for langdetect (setup.py) ... \u001b[?25l\u001b[?25hdone\n",
            "  Created wheel for langdetect: filename=langdetect-1.0.9-py3-none-any.whl size=993243 sha256=75914fbdbc7973ccb398163da5a1ab9bf7fd2c2752746ec9d30d189dcd4c59e6\n",
            "  Stored in directory: /root/.cache/pip/wheels/d1/c1/d9/7e068de779d863bc8f8fc9467d85e25cfe47fa5051fff1a1bb\n",
            "Successfully built langdetect\n",
            "Installing collected packages: langdetect\n",
            "Successfully installed langdetect-1.0.9\n"
          ]
        }
      ],
      "source": [
        "!pip3 install snscrape\n",
        "!pip3 install langdetect"
      ]
    },
    {
      "cell_type": "code",
      "source": [
        "import snscrape.modules.twitter as sntwitter\n",
        "import pandas as pd\n",
        "from langdetect import detect"
      ],
      "metadata": {
        "id": "neCX3tzNHzo4"
      },
      "execution_count": null,
      "outputs": []
    },
    {
      "cell_type": "code",
      "source": [
        "search_term='leicester city council' # enter the search word\n",
        "\n",
        "start_date='2015-01-01' # enter the start date for tweet search\n",
        "\n",
        "end_date='2023-02-24' # enter end data for tweet search\n",
        "\n",
        "num_tweets=20000 # enter the number of tweets to be scraped."
      ],
      "metadata": {
        "id": "tpqQKv5hBW3-"
      },
      "execution_count": null,
      "outputs": []
    },
    {
      "cell_type": "code",
      "source": [
        "lst=[f'{search_term} since:{start_date} until:{end_date}']#, num_tweets] # first entry is the search keyword with start and end date. The second entry is the number of tweets"
      ],
      "metadata": {
        "id": "X2d9q14U1_cX"
      },
      "execution_count": null,
      "outputs": []
    },
    {
      "cell_type": "code",
      "source": [
        "twt_data=[] # creating an empty list to append all the collected tweets\n",
        "ct=0\n",
        "for j,tweet in enumerate(sntwitter.TwitterSearchScraper(f'{lst[0]}').get_items()): # enumerating through the tweets\n",
        " if ct <= num_tweets-1: # scrape tweets only if the number of tweets are less than the required number.\n",
        "   lan=detect(tweet.content) # check the language of the tweet\n",
        "   if lan=='en':\n",
        "     twt_data.append([tweet.date, tweet.id, tweet.content, tweet.user.username])  # append the tweet if the language is in english\n",
        "     ct=ct+1 # incrementing the count of number of tweets\n",
        " else:\n",
        "   break\n",
        "twt_df = pd.DataFrame(twt_data, columns=['Date_time', 'Tweet_id', 'Tweet_text', 'User_name']) # create pandas data frame of all the tweets"
      ],
      "metadata": {
        "colab": {
          "base_uri": "https://localhost:8080/"
        },
        "id": "3JQEpZsG8n8b",
        "outputId": "214b7649-1ee3-4da6-b2e9-aee71890fc0f"
      },
      "execution_count": null,
      "outputs": [
        {
          "output_type": "stream",
          "name": "stderr",
          "text": [
            "<ipython-input-5-0b40204ac43b>:5: DeprecatedFeatureWarning: content is deprecated, use rawContent instead\n",
            "  lan=detect(tweet.content) # check the language of the tweet\n",
            "<ipython-input-5-0b40204ac43b>:7: DeprecatedFeatureWarning: content is deprecated, use rawContent instead\n",
            "  twt_data.append([tweet.date, tweet.id, tweet.content, tweet.user.username])  # append the tweet if the language is in english\n"
          ]
        }
      ]
    },
    {
      "cell_type": "code",
      "source": [
        "twt_df.head(20)"
      ],
      "metadata": {
        "colab": {
          "base_uri": "https://localhost:8080/",
          "height": 676
        },
        "id": "q5DMHStO4COf",
        "outputId": "9ab80e35-4f5c-4b94-b58b-9823d130f0a0"
      },
      "execution_count": null,
      "outputs": [
        {
          "output_type": "execute_result",
          "data": {
            "text/plain": [
              "                   Date_time             Tweet_id  \\\n",
              "0  2023-02-23 21:28:19+00:00  1628869388215394308   \n",
              "1  2023-02-23 21:10:12+00:00  1628864828256264199   \n",
              "2  2023-02-23 20:50:39+00:00  1628859907985268736   \n",
              "3  2023-02-23 16:41:13+00:00  1628797134139957248   \n",
              "4  2023-02-23 16:39:50+00:00  1628796786679717888   \n",
              "5  2023-02-23 16:36:50+00:00  1628796032485040130   \n",
              "6  2023-02-23 16:26:48+00:00  1628793506037637123   \n",
              "7  2023-02-23 09:05:14+00:00  1628682384894750721   \n",
              "8  2023-02-23 08:40:34+00:00  1628676174527225857   \n",
              "9  2023-02-23 08:31:41+00:00  1628673942087925760   \n",
              "10 2023-02-23 08:31:29+00:00  1628673889021661185   \n",
              "11 2023-02-23 08:05:33+00:00  1628667365914296326   \n",
              "12 2023-02-22 23:15:00+00:00  1628533846093500417   \n",
              "13 2023-02-22 21:19:44+00:00  1628504838370693121   \n",
              "14 2023-02-22 17:06:06+00:00  1628441011755094017   \n",
              "15 2023-02-22 16:17:38+00:00  1628428811460116484   \n",
              "16 2023-02-22 15:59:40+00:00  1628424293938757632   \n",
              "17 2023-02-22 15:45:33+00:00  1628420737957593092   \n",
              "18 2023-02-22 15:38:44+00:00  1628419024274038786   \n",
              "19 2023-02-22 13:17:00+00:00  1628383353442381826   \n",
              "\n",
              "                                           Tweet_text        User_name  \n",
              "0   @Leicester_News Wasted £600k on this, not to m...       Funkyrob0t  \n",
              "1   @rideonleicester How much has leicester city c...       Funkyrob0t  \n",
              "2   Another day, another completed SuDS project in...   WildscapesCoop  \n",
              "3   This Council recognises Samworth Brother’s par...  Union4Samworths  \n",
              "4   Incredible story from @HRichardsonLDR. Leicest...     CoreyBJourno  \n",
              "5   Leicester City Council passes motion supportin...  Union4Samworths  \n",
              "6   The leader of the conservative group of Leices...      StephanGee1  \n",
              "7   Amazing to see Women in Construction workshops...    LeicesterColl  \n",
              "8   @vriyait It is a sad loss when a Labour Cllr s...      laurielorry  \n",
              "9   An average of nine people have been fined ever...     BBCLeicester  \n",
              "10  An average of nine people have been fined ever...           bbcemt  \n",
              "11  @Zaatart Leicester City Council in UK. Just a ...  RobertA85402295  \n",
              "12  Leicester City Council is to get nearly £7 mil...        leicslive  \n",
              "13  @CSimilarities @WesleyHallCC Leicester City Co...          ru17maa  \n",
              "14  Spot the fox. Have you found the latest steel-...  coolasleicester  \n",
              "15  A massive turnout at Town Hall Square for the ...         LandDTUC  \n",
              "16  Leicester City Council &amp; Leicestershire Co...          UKREiiF  \n",
              "17  corbyn_project: RT @Union4Samworths: Leicester...      _leftisbest  \n",
              "18  Leicester City Council will vote on whether to...  Union4Samworths  \n",
              "19  SAVE OUR MOWMACRE FIELD                   (SIT...   JoanneSharpe16  "
            ],
            "text/html": [
              "\n",
              "  <div id=\"df-f83a92e9-3bf2-4cb0-b7c8-12f623e1abfc\">\n",
              "    <div class=\"colab-df-container\">\n",
              "      <div>\n",
              "<style scoped>\n",
              "    .dataframe tbody tr th:only-of-type {\n",
              "        vertical-align: middle;\n",
              "    }\n",
              "\n",
              "    .dataframe tbody tr th {\n",
              "        vertical-align: top;\n",
              "    }\n",
              "\n",
              "    .dataframe thead th {\n",
              "        text-align: right;\n",
              "    }\n",
              "</style>\n",
              "<table border=\"1\" class=\"dataframe\">\n",
              "  <thead>\n",
              "    <tr style=\"text-align: right;\">\n",
              "      <th></th>\n",
              "      <th>Date_time</th>\n",
              "      <th>Tweet_id</th>\n",
              "      <th>Tweet_text</th>\n",
              "      <th>User_name</th>\n",
              "    </tr>\n",
              "  </thead>\n",
              "  <tbody>\n",
              "    <tr>\n",
              "      <th>0</th>\n",
              "      <td>2023-02-23 21:28:19+00:00</td>\n",
              "      <td>1628869388215394308</td>\n",
              "      <td>@Leicester_News Wasted £600k on this, not to m...</td>\n",
              "      <td>Funkyrob0t</td>\n",
              "    </tr>\n",
              "    <tr>\n",
              "      <th>1</th>\n",
              "      <td>2023-02-23 21:10:12+00:00</td>\n",
              "      <td>1628864828256264199</td>\n",
              "      <td>@rideonleicester How much has leicester city c...</td>\n",
              "      <td>Funkyrob0t</td>\n",
              "    </tr>\n",
              "    <tr>\n",
              "      <th>2</th>\n",
              "      <td>2023-02-23 20:50:39+00:00</td>\n",
              "      <td>1628859907985268736</td>\n",
              "      <td>Another day, another completed SuDS project in...</td>\n",
              "      <td>WildscapesCoop</td>\n",
              "    </tr>\n",
              "    <tr>\n",
              "      <th>3</th>\n",
              "      <td>2023-02-23 16:41:13+00:00</td>\n",
              "      <td>1628797134139957248</td>\n",
              "      <td>This Council recognises Samworth Brother’s par...</td>\n",
              "      <td>Union4Samworths</td>\n",
              "    </tr>\n",
              "    <tr>\n",
              "      <th>4</th>\n",
              "      <td>2023-02-23 16:39:50+00:00</td>\n",
              "      <td>1628796786679717888</td>\n",
              "      <td>Incredible story from @HRichardsonLDR. Leicest...</td>\n",
              "      <td>CoreyBJourno</td>\n",
              "    </tr>\n",
              "    <tr>\n",
              "      <th>5</th>\n",
              "      <td>2023-02-23 16:36:50+00:00</td>\n",
              "      <td>1628796032485040130</td>\n",
              "      <td>Leicester City Council passes motion supportin...</td>\n",
              "      <td>Union4Samworths</td>\n",
              "    </tr>\n",
              "    <tr>\n",
              "      <th>6</th>\n",
              "      <td>2023-02-23 16:26:48+00:00</td>\n",
              "      <td>1628793506037637123</td>\n",
              "      <td>The leader of the conservative group of Leices...</td>\n",
              "      <td>StephanGee1</td>\n",
              "    </tr>\n",
              "    <tr>\n",
              "      <th>7</th>\n",
              "      <td>2023-02-23 09:05:14+00:00</td>\n",
              "      <td>1628682384894750721</td>\n",
              "      <td>Amazing to see Women in Construction workshops...</td>\n",
              "      <td>LeicesterColl</td>\n",
              "    </tr>\n",
              "    <tr>\n",
              "      <th>8</th>\n",
              "      <td>2023-02-23 08:40:34+00:00</td>\n",
              "      <td>1628676174527225857</td>\n",
              "      <td>@vriyait It is a sad loss when a Labour Cllr s...</td>\n",
              "      <td>laurielorry</td>\n",
              "    </tr>\n",
              "    <tr>\n",
              "      <th>9</th>\n",
              "      <td>2023-02-23 08:31:41+00:00</td>\n",
              "      <td>1628673942087925760</td>\n",
              "      <td>An average of nine people have been fined ever...</td>\n",
              "      <td>BBCLeicester</td>\n",
              "    </tr>\n",
              "    <tr>\n",
              "      <th>10</th>\n",
              "      <td>2023-02-23 08:31:29+00:00</td>\n",
              "      <td>1628673889021661185</td>\n",
              "      <td>An average of nine people have been fined ever...</td>\n",
              "      <td>bbcemt</td>\n",
              "    </tr>\n",
              "    <tr>\n",
              "      <th>11</th>\n",
              "      <td>2023-02-23 08:05:33+00:00</td>\n",
              "      <td>1628667365914296326</td>\n",
              "      <td>@Zaatart Leicester City Council in UK. Just a ...</td>\n",
              "      <td>RobertA85402295</td>\n",
              "    </tr>\n",
              "    <tr>\n",
              "      <th>12</th>\n",
              "      <td>2023-02-22 23:15:00+00:00</td>\n",
              "      <td>1628533846093500417</td>\n",
              "      <td>Leicester City Council is to get nearly £7 mil...</td>\n",
              "      <td>leicslive</td>\n",
              "    </tr>\n",
              "    <tr>\n",
              "      <th>13</th>\n",
              "      <td>2023-02-22 21:19:44+00:00</td>\n",
              "      <td>1628504838370693121</td>\n",
              "      <td>@CSimilarities @WesleyHallCC Leicester City Co...</td>\n",
              "      <td>ru17maa</td>\n",
              "    </tr>\n",
              "    <tr>\n",
              "      <th>14</th>\n",
              "      <td>2023-02-22 17:06:06+00:00</td>\n",
              "      <td>1628441011755094017</td>\n",
              "      <td>Spot the fox. Have you found the latest steel-...</td>\n",
              "      <td>coolasleicester</td>\n",
              "    </tr>\n",
              "    <tr>\n",
              "      <th>15</th>\n",
              "      <td>2023-02-22 16:17:38+00:00</td>\n",
              "      <td>1628428811460116484</td>\n",
              "      <td>A massive turnout at Town Hall Square for the ...</td>\n",
              "      <td>LandDTUC</td>\n",
              "    </tr>\n",
              "    <tr>\n",
              "      <th>16</th>\n",
              "      <td>2023-02-22 15:59:40+00:00</td>\n",
              "      <td>1628424293938757632</td>\n",
              "      <td>Leicester City Council &amp;amp; Leicestershire Co...</td>\n",
              "      <td>UKREiiF</td>\n",
              "    </tr>\n",
              "    <tr>\n",
              "      <th>17</th>\n",
              "      <td>2023-02-22 15:45:33+00:00</td>\n",
              "      <td>1628420737957593092</td>\n",
              "      <td>corbyn_project: RT @Union4Samworths: Leicester...</td>\n",
              "      <td>_leftisbest</td>\n",
              "    </tr>\n",
              "    <tr>\n",
              "      <th>18</th>\n",
              "      <td>2023-02-22 15:38:44+00:00</td>\n",
              "      <td>1628419024274038786</td>\n",
              "      <td>Leicester City Council will vote on whether to...</td>\n",
              "      <td>Union4Samworths</td>\n",
              "    </tr>\n",
              "    <tr>\n",
              "      <th>19</th>\n",
              "      <td>2023-02-22 13:17:00+00:00</td>\n",
              "      <td>1628383353442381826</td>\n",
              "      <td>SAVE OUR MOWMACRE FIELD                   (SIT...</td>\n",
              "      <td>JoanneSharpe16</td>\n",
              "    </tr>\n",
              "  </tbody>\n",
              "</table>\n",
              "</div>\n",
              "      <button class=\"colab-df-convert\" onclick=\"convertToInteractive('df-f83a92e9-3bf2-4cb0-b7c8-12f623e1abfc')\"\n",
              "              title=\"Convert this dataframe to an interactive table.\"\n",
              "              style=\"display:none;\">\n",
              "        \n",
              "  <svg xmlns=\"http://www.w3.org/2000/svg\" height=\"24px\"viewBox=\"0 0 24 24\"\n",
              "       width=\"24px\">\n",
              "    <path d=\"M0 0h24v24H0V0z\" fill=\"none\"/>\n",
              "    <path d=\"M18.56 5.44l.94 2.06.94-2.06 2.06-.94-2.06-.94-.94-2.06-.94 2.06-2.06.94zm-11 1L8.5 8.5l.94-2.06 2.06-.94-2.06-.94L8.5 2.5l-.94 2.06-2.06.94zm10 10l.94 2.06.94-2.06 2.06-.94-2.06-.94-.94-2.06-.94 2.06-2.06.94z\"/><path d=\"M17.41 7.96l-1.37-1.37c-.4-.4-.92-.59-1.43-.59-.52 0-1.04.2-1.43.59L10.3 9.45l-7.72 7.72c-.78.78-.78 2.05 0 2.83L4 21.41c.39.39.9.59 1.41.59.51 0 1.02-.2 1.41-.59l7.78-7.78 2.81-2.81c.8-.78.8-2.07 0-2.86zM5.41 20L4 18.59l7.72-7.72 1.47 1.35L5.41 20z\"/>\n",
              "  </svg>\n",
              "      </button>\n",
              "      \n",
              "  <style>\n",
              "    .colab-df-container {\n",
              "      display:flex;\n",
              "      flex-wrap:wrap;\n",
              "      gap: 12px;\n",
              "    }\n",
              "\n",
              "    .colab-df-convert {\n",
              "      background-color: #E8F0FE;\n",
              "      border: none;\n",
              "      border-radius: 50%;\n",
              "      cursor: pointer;\n",
              "      display: none;\n",
              "      fill: #1967D2;\n",
              "      height: 32px;\n",
              "      padding: 0 0 0 0;\n",
              "      width: 32px;\n",
              "    }\n",
              "\n",
              "    .colab-df-convert:hover {\n",
              "      background-color: #E2EBFA;\n",
              "      box-shadow: 0px 1px 2px rgba(60, 64, 67, 0.3), 0px 1px 3px 1px rgba(60, 64, 67, 0.15);\n",
              "      fill: #174EA6;\n",
              "    }\n",
              "\n",
              "    [theme=dark] .colab-df-convert {\n",
              "      background-color: #3B4455;\n",
              "      fill: #D2E3FC;\n",
              "    }\n",
              "\n",
              "    [theme=dark] .colab-df-convert:hover {\n",
              "      background-color: #434B5C;\n",
              "      box-shadow: 0px 1px 3px 1px rgba(0, 0, 0, 0.15);\n",
              "      filter: drop-shadow(0px 1px 2px rgba(0, 0, 0, 0.3));\n",
              "      fill: #FFFFFF;\n",
              "    }\n",
              "  </style>\n",
              "\n",
              "      <script>\n",
              "        const buttonEl =\n",
              "          document.querySelector('#df-f83a92e9-3bf2-4cb0-b7c8-12f623e1abfc button.colab-df-convert');\n",
              "        buttonEl.style.display =\n",
              "          google.colab.kernel.accessAllowed ? 'block' : 'none';\n",
              "\n",
              "        async function convertToInteractive(key) {\n",
              "          const element = document.querySelector('#df-f83a92e9-3bf2-4cb0-b7c8-12f623e1abfc');\n",
              "          const dataTable =\n",
              "            await google.colab.kernel.invokeFunction('convertToInteractive',\n",
              "                                                     [key], {});\n",
              "          if (!dataTable) return;\n",
              "\n",
              "          const docLinkHtml = 'Like what you see? Visit the ' +\n",
              "            '<a target=\"_blank\" href=https://colab.research.google.com/notebooks/data_table.ipynb>data table notebook</a>'\n",
              "            + ' to learn more about interactive tables.';\n",
              "          element.innerHTML = '';\n",
              "          dataTable['output_type'] = 'display_data';\n",
              "          await google.colab.output.renderOutput(dataTable, element);\n",
              "          const docLink = document.createElement('div');\n",
              "          docLink.innerHTML = docLinkHtml;\n",
              "          element.appendChild(docLink);\n",
              "        }\n",
              "      </script>\n",
              "    </div>\n",
              "  </div>\n",
              "  "
            ]
          },
          "metadata": {},
          "execution_count": 6
        }
      ]
    },
    {
      "cell_type": "code",
      "source": [
        "twt_df.info()"
      ],
      "metadata": {
        "colab": {
          "base_uri": "https://localhost:8080/"
        },
        "id": "r7izppgz4CMZ",
        "outputId": "27d19e0e-f2a4-4966-e5d1-e6da9faf38bf"
      },
      "execution_count": null,
      "outputs": [
        {
          "output_type": "stream",
          "name": "stdout",
          "text": [
            "<class 'pandas.core.frame.DataFrame'>\n",
            "RangeIndex: 10900 entries, 0 to 10899\n",
            "Data columns (total 4 columns):\n",
            " #   Column      Non-Null Count  Dtype              \n",
            "---  ------      --------------  -----              \n",
            " 0   Date_time   10900 non-null  datetime64[ns, UTC]\n",
            " 1   Tweet_id    10900 non-null  int64              \n",
            " 2   Tweet_text  10900 non-null  object             \n",
            " 3   User_name   10900 non-null  object             \n",
            "dtypes: datetime64[ns, UTC](1), int64(1), object(2)\n",
            "memory usage: 340.8+ KB\n"
          ]
        }
      ]
    },
    {
      "cell_type": "code",
      "source": [
        "twt_df['Tweet_text']#.head(100)"
      ],
      "metadata": {
        "colab": {
          "base_uri": "https://localhost:8080/"
        },
        "id": "kUIbjgIrCvWz",
        "outputId": "7d172a39-47f2-4ab6-decc-534c31010026"
      },
      "execution_count": null,
      "outputs": [
        {
          "output_type": "execute_result",
          "data": {
            "text/plain": [
              "0        @Leicester_News Wasted £600k on this, not to m...\n",
              "1        @rideonleicester How much has leicester city c...\n",
              "2        Another day, another completed SuDS project in...\n",
              "3        This Council recognises Samworth Brother’s par...\n",
              "4        Incredible story from @HRichardsonLDR. Leicest...\n",
              "                               ...                        \n",
              "10895    Leicester City Council to spearhead £800000 an...\n",
              "10896    Leicester City Council to spearhead £800,000 a...\n",
              "10897    Trying to sort planning permission online to r...\n",
              "10898    Jesu traffic wardens on NYDay. Sort it out Lei...\n",
              "10899    Well me and Leicester City Council are going t...\n",
              "Name: Tweet_text, Length: 10900, dtype: object"
            ]
          },
          "metadata": {},
          "execution_count": 8
        }
      ]
    },
    {
      "cell_type": "code",
      "source": [
        "twt_df.iloc[1,2]"
      ],
      "metadata": {
        "colab": {
          "base_uri": "https://localhost:8080/",
          "height": 54
        },
        "id": "8l8obYWsEY6O",
        "outputId": "b84776b7-ab98-42bc-99f0-cd76fc883b11"
      },
      "execution_count": null,
      "outputs": [
        {
          "output_type": "execute_result",
          "data": {
            "text/plain": [
              "'@rideonleicester How much has leicester city council wasted on this I wonder? It’s gone bust already, many of us have money in the app too!'"
            ],
            "application/vnd.google.colaboratory.intrinsic+json": {
              "type": "string"
            }
          },
          "metadata": {},
          "execution_count": 9
        }
      ]
    },
    {
      "cell_type": "code",
      "source": [
        "twt_df.to_csv('leicester_city_twitter_data_20k.csv')"
      ],
      "metadata": {
        "id": "Uc-CT_n4FywN"
      },
      "execution_count": null,
      "outputs": []
    }
  ]
}